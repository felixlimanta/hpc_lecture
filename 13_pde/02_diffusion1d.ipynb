{
 "cells": [
  {
   "cell_type": "raw",
   "metadata": {},
   "source": [
    "Text provided under a Creative Commons Attribution license, CC-BY.  All code is made available under the FSF-approved BSD-3 license.  (c) Lorena A. Barba, Gilbert F. Forsyth 2017. Thanks to NSF for support via CAREER award #1149784."
   ]
  },
  {
   "cell_type": "markdown",
   "metadata": {},
   "source": [
    "[@LorenaABarba](https://twitter.com/LorenaABarba)"
   ]
  },
  {
   "cell_type": "markdown",
   "metadata": {},
   "source": [
    "12 steps to Navier–Stokes\n",
    "======\n",
    "***"
   ]
  },
  {
   "cell_type": "markdown",
   "metadata": {},
   "source": [
    "You should have completed Steps [1](./01_Step_1.ipynb) and [2](./02_Step_2.ipynb) before continuing. This Jupyter notebook continues the presentation of the **12 steps to Navier–Stokes**, the practical module taught in the interactive CFD class of [Prof. Lorena Barba](http://lorenabarba.com). "
   ]
  },
  {
   "cell_type": "markdown",
   "metadata": {},
   "source": [
    "Step 3: Diffusion Equation in 1-D\n",
    "-----\n",
    "***"
   ]
  },
  {
   "cell_type": "markdown",
   "metadata": {},
   "source": [
    "The one-dimensional diffusion equation is:\n",
    "\n",
    "$$\\frac{\\partial u}{\\partial t}= \\nu \\frac{\\partial^2 u}{\\partial x^2}$$\n",
    "\n",
    "The first thing you should notice is that —unlike the previous two simple equations we have studied— this equation has a second-order derivative. We first need to learn what to do with it!"
   ]
  },
  {
   "cell_type": "markdown",
   "metadata": {},
   "source": [
    "### Discretizing $\\frac{\\partial ^2 u}{\\partial x^2}$"
   ]
  },
  {
   "cell_type": "markdown",
   "metadata": {},
   "source": [
    "The second-order derivative can be represented geometrically as the line tangent to the curve given by the first derivative.  We will discretize the second-order derivative with a Central Difference scheme: a combination of Forward Difference and Backward Difference of the first derivative.  Consider the Taylor expansion of $u_{i+1}$ and $u_{i-1}$ around $u_i$:\n",
    "\n",
    "$u_{i+1} = u_i + \\Delta x \\frac{\\partial u}{\\partial x}\\bigg|_i + \\frac{\\Delta x^2}{2} \\frac{\\partial ^2 u}{\\partial x^2}\\bigg|_i + \\frac{\\Delta x^3}{3!} \\frac{\\partial ^3 u}{\\partial x^3}\\bigg|_i + O(\\Delta x^4)$\n",
    "\n",
    "$u_{i-1} = u_i - \\Delta x \\frac{\\partial u}{\\partial x}\\bigg|_i + \\frac{\\Delta x^2}{2} \\frac{\\partial ^2 u}{\\partial x^2}\\bigg|_i - \\frac{\\Delta x^3}{3!} \\frac{\\partial ^3 u}{\\partial x^3}\\bigg|_i + O(\\Delta x^4)$\n",
    "\n",
    "If we add these two expansions, you can see that the odd-numbered derivative terms will cancel each other out.  If we neglect any terms of $O(\\Delta x^4)$ or higher (and really, those are very small), then we can rearrange the sum of these two expansions to solve for our second-derivative.  \n"
   ]
  },
  {
   "cell_type": "markdown",
   "metadata": {},
   "source": [
    "$u_{i+1} + u_{i-1} = 2u_i+\\Delta x^2 \\frac{\\partial ^2 u}{\\partial x^2}\\bigg|_i + O(\\Delta x^4)$\n",
    "\n",
    "Then rearrange to solve for $\\frac{\\partial ^2 u}{\\partial x^2}\\bigg|_i$ and the result is:\n",
    "\n",
    "$$\\frac{\\partial ^2 u}{\\partial x^2}=\\frac{u_{i+1}-2u_{i}+u_{i-1}}{\\Delta x^2} + O(\\Delta x^2)$$\n"
   ]
  },
  {
   "cell_type": "markdown",
   "metadata": {},
   "source": [
    "### Back to Step 3"
   ]
  },
  {
   "cell_type": "markdown",
   "metadata": {},
   "source": [
    "We can now write the discretized version of the diffusion equation in 1D:\n",
    "\n",
    "$$\\frac{u_{i}^{n+1}-u_{i}^{n}}{\\Delta t}=\\nu\\frac{u_{i+1}^{n}-2u_{i}^{n}+u_{i-1}^{n}}{\\Delta x^2}$$\n",
    "\n",
    "As before, we notice that once we have an initial condition, the only unknown is $u_{i}^{n+1}$, so we re-arrange the equation solving for our unknown:\n",
    "\n",
    "$$u_{i}^{n+1}=u_{i}^{n}+\\frac{\\nu\\Delta t}{\\Delta x^2}(u_{i+1}^{n}-2u_{i}^{n}+u_{i-1}^{n})$$\n",
    "\n",
    "The above discrete equation allows us to write a program to advance a solution in time. But we need an initial condition. Let's continue using our favorite: the hat function. So, at $t=0$, $u=2$ in the interval $0.5\\le x\\le 1$ and $u=1$ everywhere else. We are ready to number-crunch!"
   ]
  },
  {
   "cell_type": "code",
   "execution_count": 1,
   "metadata": {
    "jupyter": {
     "outputs_hidden": false
    }
   },
   "outputs": [
    {
     "data": {
      "text/html": [
       "<video width=\"432\" height=\"288\" controls autoplay loop>\n",
       "  <source type=\"video/mp4\" src=\"data:video/mp4;base64,AAAAHGZ0eXBNNFYgAAACAGlzb21pc28yYXZjMQAAAAhmcmVlAAA1Mm1kYXQAAAKtBgX//6ncRem9\n",
       "5tlIt5Ys2CDZI+7veDI2NCAtIGNvcmUgMTUyIHIyODU0IGU5YTU5MDMgLSBILjI2NC9NUEVHLTQg\n",
       "QVZDIGNvZGVjIC0gQ29weWxlZnQgMjAwMy0yMDE3IC0gaHR0cDovL3d3dy52aWRlb2xhbi5vcmcv\n",
       "eDI2NC5odG1sIC0gb3B0aW9uczogY2FiYWM9MSByZWY9MyBkZWJsb2NrPTE6MDowIGFuYWx5c2U9\n",
       "MHgzOjB4MTEzIG1lPWhleCBzdWJtZT03IHBzeT0xIHBzeV9yZD0xLjAwOjAuMDAgbWl4ZWRfcmVm\n",
       "PTEgbWVfcmFuZ2U9MTYgY2hyb21hX21lPTEgdHJlbGxpcz0xIDh4OGRjdD0xIGNxbT0wIGRlYWR6\n",
       "b25lPTIxLDExIGZhc3RfcHNraXA9MSBjaHJvbWFfcXBfb2Zmc2V0PS0yIHRocmVhZHM9NiBsb29r\n",
       "YWhlYWRfdGhyZWFkcz0xIHNsaWNlZF90aHJlYWRzPTAgbnI9MCBkZWNpbWF0ZT0xIGludGVybGFj\n",
       "ZWQ9MCBibHVyYXlfY29tcGF0PTAgY29uc3RyYWluZWRfaW50cmE9MCBiZnJhbWVzPTMgYl9weXJh\n",
       "bWlkPTIgYl9hZGFwdD0xIGJfYmlhcz0wIGRpcmVjdD0xIHdlaWdodGI9MSBvcGVuX2dvcD0wIHdl\n",
       "aWdodHA9MiBrZXlpbnQ9MjUwIGtleWludF9taW49NSBzY2VuZWN1dD00MCBpbnRyYV9yZWZyZXNo\n",
       "PTAgcmNfbG9va2FoZWFkPTQwIHJjPWNyZiBtYnRyZWU9MSBjcmY9MjMuMCBxY29tcD0wLjYwIHFw\n",
       "bWluPTAgcXBtYXg9NjkgcXBzdGVwPTQgaXBfcmF0aW89MS40MCBhcT0xOjEuMDAAgAAAElhliIQA\n",
       "Ev/+963fgU3AQO1rulc4tMurlDQ9UfaUpni2SAAAAwADjh6zXRqSe5rQaAAF2f/6G5gDLcg/2YwA\n",
       "JTP/QnFGlmp6iWZPwx4ro1Vho9B0Dk0eGvK0wkk2vdwkqQWpX21QEyGCWtA5uc07TT3rVmDihfeu\n",
       "7FF4ZTfQMLm1NX7oHHmbcx7SETQdJO/m2gXB10AiK0NBAvT+bzBNJLj/GDphjHNEVmprFnepwfmS\n",
       "8QShlvb/FwRrqiUAG+OCv4Kst6j67v5645TQdjpFIhMHms+BKdNcsscof4e0ExZUNq8QaDeRmRHQ\n",
       "Jw28fQRQxv3nXdvCJpP6lgtVW4Hs5T3Ez084R7GFnjpCrRxre0pW+8tFeFRfUQWVRBcpkC7PLTSo\n",
       "AQhudXQuiTaNG3kjPslCQQHK+mH/Q9jmPwzF+P/M4xnuctKRs0NiVnNkNh6VszYXawB5n4wDPJhb\n",
       "7m5otZZH6Fk0zH0B9jNLmHz9iIrL3U1EwPVvZl1Q6IfmTjrOzT5mHvKLJDBEC9tRLEP3vzAVivu+\n",
       "fkY6KVNKUUSX7U4qjhICU9juj8BK3ifMGQnfz8Fta/VIIZdAodnqmdmj8gAROyO/AZnaP+Mejdn1\n",
       "2avcGHEdcIPH5CUGOmD6DnbAAOux6re7v6LNLLCibe5TE0VKcv47oTYRD+YcI60LjorK4fJ84Z+s\n",
       "QhTeVO7hwLpvEyqt8MeW4krtKA3VGLcVhVB5aRU7MB0An4KvWsvNYPy8eicjPz4ftS3hJtkJhQaR\n",
       "kSRmmDb57ZI22KypoM2dp8KwDYzYvIncbxN9j2kZf4AqnGoTLpRJX8hOvUPFNkXtkwni8bQ5rcAf\n",
       "H61svFRD+jWTbA29WC78H6/FaCvIvouNa3myvL/jqKjZsM9yGhrEVichKxB2flAtAucyIPUVuWg/\n",
       "Yykrh2/5MCDJwTOpUqIq8Yh3dWQc/w2zAsEu8PHiGv6Y2EDGS2BPO3PaNxRwtKvBhAYDzH/5Ms/9\n",
       "jwXpdSK2v3EpeelOQmp9CoyhweOpNxqWsIo/bNz2LPhQGH0sf+n42VtqdZwU7Ge5ncU0uRe52tDj\n",
       "40s1P5oxIPqz3Nkf6hpLU3c+CC7z4RCQUgar9LjFJsKOcBEavgd7UeXnSCRw0ROqT3hQHgmuQ936\n",
       "hpVH9OcaDgM2hyc5JS4+5h4yjXPTpsSLy/w6qT+/30B+AkAg/J+ztQ26fXhWO+JKAl0NbKkHT0Fj\n",
       "6be8zcu5R/oL3WODunmHsLdr1tY09ylr++RNVJutkDNLqwHbkJgYqtXADLl1rkrFWnWqI3aL7KeK\n",
       "FpYQGp8fp0L26av7wld+mlIaKJj+5KVi9odt8akOC2YihM6S7kwt11grHTueW3FX4QNAmM2O2DNl\n",
       "sHE7SyxEBnD/tEa6WUubSgC8aBkOdaka9uLvdGZ/I1inHffaJb2uxMo8dzQsdMSIEJTN7OBC0QPo\n",
       "IB1xiOhk8GwtBln8EQV2rYwa6HnzcP36s9kFvKv1f7OmIgg2Oe9QF3j/JuGdl04S7FPGzmJ5wQLp\n",
       "Igf/s0x7iVzu2rHsqQHzIDMkiFVytJgnF4wz+tw+cmxBvt7ObfEhbOuu7GFD7ATNBwdqeuDwn6sn\n",
       "bdrA3mce4KiAx4XghVU6cobycG4eoHtf1S3r/qbWHRYHX3bmQmslkf1dYNVOoLh3ZjlojPIMF945\n",
       "vGmzrEgDV6vUcB/+PwZeIaQNrf+J8d4dJDzPDItO2r9F2Vu5z1u0w5blmuwXPP03I4QaJg01pEqD\n",
       "94rP0fVDgNB9C8gFrEE5QQ2H2xlCzCnq1E7JQcopXTqBy5S5lgPTUxtGhMcL4dMF1SSwnx1wHPK+\n",
       "PmqlH6JvexyRuKG1qMh0K+87monX3xc6ZkVDtI/T0ihr4A8BgTPw8hpplGdr0YoybMjtjBzS44yR\n",
       "MDGvAjbcO+HUKUr44c6H2UZ+XhetUgY+rQ3XFKhJhFETLscoh51ixDS6Eerx7PYSqIyn7J/0Z7UC\n",
       "8rUWInlwZ6lKHVJ/3PSMDM4WVGwLi92PwazGSouf+T8aR0zNZJ1zIhDs5E3XaSuAiiusNfj3npRj\n",
       "eJea+BdIuGd0NMqBx/ap/uO5pHwYAQa4ypsdudPLw+9czp5S2uTmj65gNc5OIyfSs8DnVt+Ug52n\n",
       "6maOuclQ8i4QJJhJyVBBNNqLaKCyMHKvJo0wuql6aKt2xa7wvoPD7Tz/BZhP+O71S8xufhrwtKpU\n",
       "cU3v3JK9CGr+rz2EMstc2diRPGcisvPIg7nco9c4dct0gOk/TT1DzxqfeC9wfYL5WBYqi+Zwcbjc\n",
       "uRdUylc2AXpg8uyT39tkLlBXOCDoqn5dJdTOcrQAhvdK0yWhuit0skpJVX53T3uF7fv0CAEJsMp3\n",
       "QNimpUs1BH6dkN0T6+yhLyf2jE4zTkv1gzV54SAEV5JMfeA+Jc98VpkFn9LVOe91V9zVQk5cq8WX\n",
       "DtvezkkYWPY0n6jzK0WG33h0nVO4O7sXluk/Ld6UgL/3dR8LBYU7yIZV0pbrWET9SPHudCJPt/9x\n",
       "5r7i+XdOl43gm32k6IfX9fMdFAk8tQvU6WgM6lQxhli2iS+SD2taUnSrRGl/pPcP002scEZocWNZ\n",
       "poGqCY4RGD4OiPOZpoxgUSLb51vAi25RlzS+hgFp6yAStQgRYilgRGpU/X3wXHmqABy6RsvjbbHM\n",
       "0QORyrc5aI5OCGNd/dO0MspbqdTCSNTsrGAeTQnmedMH7cS260T2OknZ+iLkkzNpJtoetsYjYOIL\n",
       "nZLlP4YIAAvdLesmnpaSLhijE4KZDRrbKNRgnDhGG8x39mqJUWKJ6PMOI/qpFW+KIaQi6ZV4/fkq\n",
       "6qLigCDvJBlK+0h331/LJUsnt7V5jraoDEWZw52xNtnEUlGPlT2QMxxX6d9Mt3ZW9g+rR80WofFC\n",
       "UBNwulouDBlXVLDQH5U9vX3eTFJO9BMoQF1ieSVgLZNaIbjaoexbRa8iiV6Mq2rR09+9MKPCAVWz\n",
       "RgF//VhmCNpsN4GBckF/vbiYecKgYlCGP1WxkIurpKHOa81mtZnq9euvUurcxb3Lwt4+JhUCWV72\n",
       "MOoQhP+Pn1uB6Tu++MPJngTlBQTt5oVFDUad3QxvoZ9kBuaCawTv/PA977AlfAwi/xso4IOoedfK\n",
       "9lRT68KufhphLtBzRC1GjALwO6C0f5grW1Xs4b1I6ffuINaTyTKSKS6Ua1yPISadRLwXuecgz5fL\n",
       "fameDYKop2kxQg73GFqUhPgbBpi3HjLF/vf8J/HS4GmSsNfN13Cv1CTqAAafOdgbffs8/J2nMuV8\n",
       "Ws5vVgwZSMse69rU8gh2Jujs+Ynjmyc6SMabQ6HYUg9GjW1buyjTVhFKkrvPzVGPfaMBpMst1PpL\n",
       "3edzsFMdgiKMzy09TpxnsCZj/hDZeUQRZzlWWITQ801HWZAO7CUUX2uq+6aT9RP+uPUmhMfHxmjY\n",
       "mFClAg9/oXQeDj/vOS5cZqjgSB+NbIxS1/1teb0jgsgJatITqutNOgHRd8De19xMxa6AwBJE1tB4\n",
       "Ji9oGWsSUhy5hqW1O3skYPnxv6hYFy+2XxE/3MUYNyHgSmOhdd3Fw/jg5foFpQt7CaFtQWeq36aC\n",
       "HthAZCj1VlwVRXwyEWvdOY2R/Tm6uS3q2SfLRy4wTFwzxCxzjaWn3D1EBSnd3X2hAsULB+zC538K\n",
       "KCNZyq3FlB9bVyIxXJyUMDUpdxmGz4uTh/WfLyPqlIy7/Af9yfcBtY039VdZVVEYiePLDmexE+p7\n",
       "V47jvIk1bQxeft5PIPfMfpw5DBiFRiblCR5hCXxbb7HDlSotxk75DxelbYh2913SUrlinaaM3Fu/\n",
       "2uYlbhWrBwvGXqzgtWn8wW4z6MK7ZOqc3KBNIuKrkVzlb+WFaEgFuYZoSk/mTOXvz4vc98sw5/9B\n",
       "pP3XzFDNmZXAT1HEnSh35bRLLK0PtGyHa+IJfMdF3Qj8kFTuOsK9jaPMIgXRWhsLrZgiKoIDa2Oc\n",
       "BLkdARbQDqHiBgPX0WSqoF/T+6mZJIdUSxadPw3H5XEQcw2dsiB4Qk1PuQIJxqzbtNzCsuZ8F0Rz\n",
       "nWp5oxsBxwpWsCzMywrxRFDgwdIzmTiK1crkTp4QxF+ieWGGE0jBMUV1YVTo42yZbiNTiH4YEuIa\n",
       "uHpEcq9fD+rjaNVNFcUbZ+wd4owWDHbK0Zu4s3aLuPRW4pG9pyB8BefpRiCKxLQvar5iceL8ltAe\n",
       "ZUS5J5NWkHI6chHv2wlCxVEAMZMCH+bpZ/fSmV+ocSK3b43LOYXGBm1BT8736TmOOIOU+zsvchK5\n",
       "LvVLFRo999YbFLlr3APYOCjrNZ79YDDsYomJNYt1CAn9Hb2mLKueDetqmQLwwZ0Y541N2wfDDiz6\n",
       "07eE/efwiASutgWvM5YvuA8HOd0YTB8cdTJBQ7bQy82Q3modlZz1VNlqntNDOQjsNw/7pYI8p32C\n",
       "tg5IMKKXJzFC07FrqyOh6zx2/Vn5UyKt7cu12au4Ut9BDBWCAI09PGRwO72nWMVucVuoJmKa9s8v\n",
       "cqaLZ3+BrFRUFGvc3eUNPbbk5D7iycLuPpd8brT7al1qynqNPfAX5RwZ26qtBO0jQ8tyG2uH9r/P\n",
       "Z/5U1SL2OqMgUva9tRyf8qryNjMb/Aa60z2aXiAtvQCIH9MBL47UPFsuchhA7BvovD3Y5n2JyEPi\n",
       "y9HDyLArvTWjcOxlmqvPACda/liHtM3fqrOgZNCR0JXwARSIVybFeh+2wbVD0TpHprvpF1aBgq7r\n",
       "d2nzvhQlnyXFIWU7PwCNKQ9AxPqGD4o28lLvBNIoXiMwqOVoUL2/ed/UCfg64MbVuyRzMMznWiUs\n",
       "8cjQIsNtgTLWcoexL0VkzU9+vVAJc2hHY6JGmxeVAyr+iqmNyiO3093F6o9heaIYfXqcZwamdrTV\n",
       "0oULPBJ/PPEWOtNoN6AMgpSK8AlPHzDD9O7VJjcs7WxuxFkox8wIV7Uo5ARaXw0rteO1J1kS3JaP\n",
       "d1N13GE5Ngcq2g6wXnZUADVPSgBd1HP/E5rB2Ll2MNRGqJTFGUZHAbmVtR6eU1afFjQ8qogeIwTQ\n",
       "hX+veMvwd38VpLusATXor3ExNmrgBDeWQKCr2nlTSKyeaQyWuYY4SJzF3lgM+/+rUJdazrLORB+j\n",
       "vScJvZ7IxQxFCH9tP1o1bThPRtnwmv5K/jKQ61FrfVMdA1vijxluZ7CFz87lR6OaxDJJvBgSEAUF\n",
       "61Q4y/qeZn6o+sF6+zW/FYYDszjMpU4FCGtv8vhiIzNGC5I2cFHAkmw0Nh5RaVVuwdCX4m0XOuCy\n",
       "AtAdJmo6lsB5sQ0XgqYgnXAV6nITffIf9YyIplihsjxH3ru5U2j41/e5sn5Y098MzLAXfbsRdLI0\n",
       "ybwYWxKrp23WdcSHYDUt+0ustYqDzfWZyaI+g3ayqPPx/O3BMrlgB92nrCy/bixnOxrEDMqHz6mW\n",
       "p4GUdOSwOWlqDI7od+vxaDU6hhrazk6zS+T6bBLYAZt8LNj8vAtxTYkDMTbaf2OmKdCXBBJ/GY0F\n",
       "KDfdVwiZPXeRRLedpvsfw7/638hEANWArWqP9vOpkjnhjEN23hFNNvKFpDZj7u5GsRZ38appMiIE\n",
       "HddbsJjN0HUEVV+aptvyf+pNhEK2pKlY6/iWvIRAmpJvsvIhVce0DsdLHbp0iS+XKsYzMBJkdAel\n",
       "mD72IXaYtIE/pSWQ0364RlglH7KRPKsRi/w+NcVOQ/z54/WXy7vCqHLiT9W3GVxfRom2MQyxlsnX\n",
       "/VLFTfMKaYipCmLX68zJwp+Bgh1vFfzTfHmjm0qCIRPcvq5kGky9tKFja1slRVeuBB0iCBGhXJa8\n",
       "X1enpvdt11TFRpI4Clfhb0oWQpbssAStGmgfgHRPBF3gcfoIH6R17VP/UBPLzfnBBz0NwBQh2j9n\n",
       "BSWfauBzA88Ld2hv80BL9yqA3+obrHUw/rE/2nqRBODuIwMRZI9vWMRfMCa1eBfQbHOYTPWMlZcX\n",
       "/jCw01Q+vt8+LTA9PWozH//YzDFjnk+NmiRVBmXTQewQieayhfxt+0gm2fzoUjlFWF/DszuAVNv6\n",
       "elSOXUA9ga1Ndz82OxqeoJ5YbJWIwGmVIIV7D411iTK2ldW1eAzfh9wWLcRFKdY10a9EO8p0o4tG\n",
       "B/mRHPGH3iDp8/y1g779SjbbWg8fzU+pxnRydknfSNHsEowVnPTCywsO8DnCKOPuvMvEhxv38nPU\n",
       "4PVN32p8/WHeYsEeyTxuBcnol0p26Yv9cPQNJNdib7b9Jn2jbiG24MjicbMmaInuRz1NspuE8ukJ\n",
       "SP9rT4DoexbjOaXiVL9oA77PAAAFAUGaImxBL/61KoAafZ+BS4Gj7VcfqiWPlRwULvSGG08LhDUr\n",
       "U66g2hQ5GMu1M/nQ071C0Qc+qGfvwj2DgzLNV4Kw6/7m6b9KICU961MZ8NgVXRYwHldB+e3k8VW4\n",
       "ppRmU+h49Mx7Ku39PYw6/BY+2X9zjcveQypEDHd/l6domOFBVq1SRu2h3WXJDvSSbhRH8cbi4d7k\n",
       "VzQ7fzW7+u3/yIAz8w5GZvcAC2M1IEM9GNMl+C30/3DAOLmtwwJQoQ1pdMZH/xUfMlyJlxp/4Fh0\n",
       "nYPVnIlq86+GzQSY/wm08P7onv4Br8taoyTvTRopRSM50swXZghpyNXVzuv1zsMRd9B/LtGEzCO8\n",
       "PCeM7GVKFqn0oSOPoil9tgAu51sYGh7E0OPhvayzxjfHMXrHA1WiGAOxskQ+3GQP4XYAzn/+d25y\n",
       "Av8HPdOLvPMVWt/xn0f+L1xhhpj+sqi1Poq0YUL4i4A7Hnp82nlX5wMMXgd7xVrekkKSJbxS0B0W\n",
       "SiB/LOz1JzBSXEymoenHzXah4YXnvmMgctiuGH6OzI4DME3ca07cF6S8U9c1zf8qnS2AkluTIrQQ\n",
       "MFs17KML/9Il1vOohRxDZGSxcosXPAripeno6tq2oC29YJuxjC73iXhQ2xKXDCR79QqblBHvsF9B\n",
       "X4IAs6FR7piTer9AcItLY1Wr7HwfCC2allAkUfTP3uF2CpqQtiJjkDDOMiHUonj9PPW96dRxizVF\n",
       "50YD033Ya7IK/c+IhfT7ob7kpSApkUX+bGHtvlZAX6b2ndVzFoFuiMPeQDX4t6y4Ab3CCqirQWtq\n",
       "O4v+kvBHbajkCugSdXlvLuQ/uk8PuxhFqi46Dj88cPhgFxfp/IhpZrwLGEZyVIm6yXBw8JqYu7/x\n",
       "9tGcDD1n734KBUrBUc/vZ+zUF4doQgvIeoe/tgzOMBFaZfFn3bV96/GU+g6bag0poUQiro9TSJUM\n",
       "o9tH4IdOeHCmeOn6TLmmn7QsXCfb3V5H/6lIxPftZ4kLTr0tdsAAxpLwQpZCeOEC4Wkeb2/GYZrc\n",
       "B1/o+aYo1oet4+wKVTHn5xghCNbvzC+Lb71qc5H+Qvx5QWruVh8SB488LhMmFuz6FmOwnCK4t/mA\n",
       "5kjBEY2brVWs7UkJecCCdMf0odjTBkoUKlQ/fyQkR3kR75gLZCd4K6AIY4al4+vKBNfeCx6jfoYS\n",
       "cr1yo3F07GOF2N9CCGgkmr5DZ4zQNS4wTSXiPamoYaQ7UMNksu8I7YY2f/9ET2I8IpefxYnYIMP5\n",
       "pf2TViUZl0+vm66mFx9YApxMTzF6TH1z3zf6C0w/G+m1kd////QqxJ2pp7pbLBddUHyf/g9o+ESE\n",
       "xyv9rD3qe+Zf1PGFSIHqfC2pvrOLWSDi8ZT1ao7fy42cWUlL+suima/WwF4/U/U7amvi4ACt46YU\n",
       "MFe/mCO37Rtj30y/TEN8Xpcwn38WWAP3x4ujtdXxDajYAIVTNPl3ViSGJtM4sBXc8Q7/AAwQERbC\n",
       "7mBFAD44ELs9+QCNxLjpkq0I7gll2OOsh0u2RQhp3U31Zf2efgIb8ccu6pVZxYp1eFGzYF1oH6Nd\n",
       "UTL47Hay7mIloxIdMeKo5MdwIBJ9QtMG+rN0K34D4DEtGwF7w84vzeScpgYz0ux6RY9iZVtXv4mt\n",
       "b7udv4ugv5lxJzaiUnPoZ/hMzbPt/vw0m5F5qh14mum3I81Qo78YU85csY6nVgoETAAAATUBnkF5\n",
       "D/8AQsqVmudo6WgA/awbilmL0h7iZ1IbwXNB85ZEdIIM5iKLSHkerbDQZVYM8N29XyyYsXXxYrJK\n",
       "rUHEmUJSm8kCnNw88Xbcsd81CWqHKNprm0XuhJdvwoqHa3hGg7Y3ZwQCMDPdXW6i5jq7+xE6jj04\n",
       "Ghlfibnw0mYFivBE/IbZlmT2LMp06aqH4YfezUKlGFOXj6oJnlS81K+2zhSkv9DiuzGdEDeBVH46\n",
       "sh+RKFXePVw3melNFNgy+2LOAFx2ON7zZWzrVKS8ou3BWg1qN9e4nePoY6l/0wzI4+2JiX1ZQP8H\n",
       "t/r8xSm7fBXJplQ3Lu1ZGCi2+gPo9i4ut+/RljtLZ/IdrIgi3Zm4cAqKvBsm7nIUczexkYGHYsCQ\n",
       "DsoiU3EGTdggew3pCJe+5rZgETEAAAOtQZpEPCGTKYQS//61KoAZcs7zA4AS1u8ZSQ5yX4EDT3cz\n",
       "EWvMcaNuOSM4p4EQOSMScjMHlpRN5L4IQTf6Ce5LhQ/bpg2yoU3zuUn8dyzGrpW4+/0HPlmKQhv2\n",
       "D0yVNoboyc7Xvpw2crnuVdIsJSBkbAoadMxKX/obesj8q+erKPybHe4KkyKlI/Xctyh+hEwuhJ92\n",
       "5JIZ8ZdHO1djdHej3kp7BuFIah9cZvR4jzmD6YlPlWPNrUnneP26d8pQlZMmKMVe/ybiMkU7It2Z\n",
       "SvXnMyko8+xQtV3WFC1qn3fR97qecQb8TCdoHI7p/S1WVLmzP14uRS5dhc0GEFr5ciZNFidgau6f\n",
       "iLLD6086cazAEjucTsj6lMDhSdzclBlXnzESLzyCyiZSVmZOUgO7fkuI0IU1LQdyd83HPCx3n8iH\n",
       "FGM+7CCRpgiytvF9jXZaEKOdDkiQnMdHfMPA8bbOKvqkro6wkC/ClgH8jgPE1fsTenlg08zyCGXq\n",
       "Abp4b2S8yu8RK45gIGYb4rOS2XbDo03YSH9N9/H+5B7OakS56VmKys3pdSEGgYkLS62I6HJyArTZ\n",
       "483Fo8WQ/SUS+qJtiASCNUkBQxD2rJSG8bBsqBbdNtPP9dZMY1thfkh/K5YhvBU9BZgfkeEMX4EQ\n",
       "TAbkO+vuEGFS5piVUhVluSIGR3qZSwUaX+f9WWrlEFE24Nxq+NxNobcc2Nua9k3fUQjKlvBG1R9O\n",
       "RJq1P/N8yFGtw/qZ+UB/F7OGKlf+7sbFdErpMh6AMFayNQXlT34mFj94JFOqTpB9fJ1Fm+ZP5Slv\n",
       "/fSJow+PihSMb3bVw32y8cjDMT/vSyassBnSKUttGYuWqmCfVqg6kFhW3A4NYt0NQT3ZmZromQLu\n",
       "T09VscSVWJcJqL/Ar6F38Rc0CxnMXFk7FY6nvfkh4G5Bx1grZcYsBRb0iAPGKtcKpmaCgDVEUzPM\n",
       "nnDvIm5bEI1DANisIWG4y1TkSZe7syuhzkuDYdZYgRIZLO1aI2YWI1YXD8xq+TUKO53Yx8kiOO4Z\n",
       "Gl6bAsTaXlV1LbunuHvAJUnMi+JHGc88eEg3YgwY+KDZ9XAfF0GaBCjoYiQ7Jw6+LFDlSqILq/ro\n",
       "Oc9hWvSkvCn/ctTFtibMh8gq77znbYLyEhfyOTu3nMNbXW/eQpHdqIIv+EXH1LPqKqdsgzciv89b\n",
       "NHs6n8ZT3JMdH5lSkcqJYQK5KGMpdwsPPKQy6qEUGz1809a58p0ZTmB1CSUgpUqWdH6YeYAAAAD1\n",
       "AZ5jakP/AEDFTJ1E2AD+Wy56LRDh4iP+9zwfAyqcyz06L6VnVtdhvv4plRZoCJriHGOWmAJ2yIP6\n",
       "uZXbT0BK98YCFskQITwbmTiSYGrW1j6wuO5HJ43Nq4WsrVDXWtpC4YaPSVDU6Fkr2itAfyDC4Cb8\n",
       "cCxfzWvgxVelPNjJG7/4bddC3Dhavas9QEkffFIVy/nGsuVGA/ZJAIeBOteX8LDAEeX+9nswAmou\n",
       "902XnRUEXF/eLVldkC7mP+ksV/hylOgA4gI2wNMycCS9R5XfK4Cdl66lSP5+rQJBD+KzeoUzN+dn\n",
       "0uHfedkY4xrIZGz5gr1CToEAAAMFQZpmSeEPJlMFPBL//rUqgBlAnjQUoARk1udTECbpWOHtye9K\n",
       "Fj1SFmU4Sq/AiRH/hHXeyvi7Ezo893xOiApm2f3wiCLr3qdRFKMpSnZBTEi0+C91ElJJeKVdPm5C\n",
       "7ZZBckA2zzDzahh2uqevkxANmd5gCcIYzF3On1rwx1tgckaEepEToM5fFQKgBsDf4Ezo042rVUId\n",
       "Z91SxfqQu2mJxgvhC/ZotMwukMJvFzNmwFqRdwCfZ7HUDH9W3zYnYvedRGp9zBXAf3gJ7D5O2SPr\n",
       "w2RuG/ISCFpY81upTbculcjHzi38Jb+QF7VajnIXNveT7G+e8TqdlaZVMlvzZzZ80rl3angsUXfg\n",
       "LBymnocho5cg40UvTJp1mFub1GI0CFUlX6+6sCepboJwTMJZF6dumMeNNSS8JYCiBnrYNSryrgFb\n",
       "ZfBdD3j3ZG5npJlWmAuWxKaOIxAFwIQLoVLyWiKb0Z0C2kFDh3avsV6CtdYD7g/P5KiTgsXUBdTC\n",
       "v+gZOVO4ZeiFd9U/0vyABPD18o4emsEBnjUJr8tRBwz7ht8W684oOeM2cZKHjHNyQ3lNX3d1m2vt\n",
       "l18BWptvdFZqSY1fDdyNR+O+1OKaWZHDttBPnvlgCztZx8tYkO7DlmdZa2Lg+9KBGYJrR2X+Yc1g\n",
       "LFQybhRxgG4irEzzpXYZ6/0c9TNyK/WOV2dDBvEX4Aogjv2jyWhnOtO3lE2BtUsQhshlTCaOs4ex\n",
       "lnNB9hWH50MD8spyjCHCbd0CW+b1SjBxJEzJ301DSeBcCZjZ5MZIajzOnwt5B5JpAMVHlY0w/lva\n",
       "RWqZG5HCB4X7uv0ikRdTdrpWuoNfSRMp/ec8sAWrz76PfdkD1gASgqOwl8MLTe7UFWosu1yhhVev\n",
       "MKjyBi6cIG8n0mTmJJIEDDTE3u43LuY1zZs5caPe3doj6FHoMeRJjyfExrJRmRFwwKXf5aUPg4zi\n",
       "1qJgSyoDTzkIa7AwS7wX9dtoMfIm20XSBOlyfLyeFQa1lmCluEWm4THW/u+RQ+TkeOq4ETkAAAC5\n",
       "AZ6FakP/AEC9RQQq9AB+vsZg0xMOOnpB1t9eEDVKiihsya7xfjFGHsT38q7Re1Zky3lZOfR9RbMf\n",
       "Wo8AGkNomhlfZmijqQ5s1K9iv+CFF+dpHHOIh4tqVE5wyG02QPBkuzijrcSFQ0femYJkthOs86Oq\n",
       "muEJz7wsIhqaG6BOK9oMgveZi7jl3Pfdj9+ZVMPplfial0KFyGAYgos2XGKne6G/OpKNan3BDmMn\n",
       "JtgcZne6ImhZjs3h+akAAAIvQZqHSeEPJlMCCX/+tSqAGUGhXAO4AcZw9UkkKRRfiZeahLBaXZ0h\n",
       "TTZMj0ihTP3YHu0pabV0kWAV4to7I7KSERbW96yTNEgw0rDegoL7LOvEcwi6CtLgiG2xYCRkpo+c\n",
       "WYUQmPGEtrQoudR0mGJfpi0lT7meMk/oNp1x/RomP0lsyDVeg27Oj07y1FgqRCx7F82gZgOxblPw\n",
       "OX9uexgNwLFTxCBMQYxZ+W2CTwWT87z/5KRQeOUqFxKoPro/dnnNGex9qAiH5u11T/NTnTIc5i12\n",
       "dyF7fw2Zy5G7NE5Pcyke4XdApHZhrXqDnCs2UWb3Te8bn7ezm1GhU9W4AUKDiwpvKyYwC7P8ha+B\n",
       "+0f+2/AfLvDje5calngkvowrQiWcz6z8pAOJX2nT4lAD1704tCU32p+fj2nEP15XQZlb31pLiWkB\n",
       "F6TGWs+G56bEA943+cEPj6Uqsfzgb8kXE7U+W/1yO0MY8X1YDlfKurLwyQAXMxNUa25GeztAW+rE\n",
       "kFTxm4DzLuLpP3H2wXlTXiMGv3QSr2/lM2B8OrX2LRDlApKvKGXP156/BeyvBnMArR7Wy94hxNkK\n",
       "CwASRb/tFnbXwStQEbnvP0HzSC2EZZOyLrM0qgnCtmX0BJ7aERhKknxI/sDY2KvyzMq2rEPTvOAP\n",
       "Cp4CF+MiSgEPzwhUYqWonaOCmUcYXjRtsgMlVBGYEJv7z12yorUMet3lh42Qjq98Qo+qT6ZRAXp9\n",
       "HbJZSOzyGQAAAhxBmqhJ4Q8mUwIJf/61KoDD7Go8Pge6UAHGdxtV1to68IKvYc/6NJG5GAte5Hbx\n",
       "8TKfyY8pj91pGcUzmTHBnAEdmD1zBUhQcZrCO/ISDkVpGYEylT7Tddr1iTMGwndCDWdyrFDRAeCi\n",
       "1GOmEMvv2DWg2JkO+CzYgOe7IooJ454O6kpHha1yYlIuTxPFwz622fAQkSSnH8z4ujCgrtz/voVG\n",
       "1WKXXqEEmOmegWV77LV8xTdvViNVMtbYAooihkO0UEuoTUiJ/M1Zje5ZwDpqCIXlvrSRTYJlkzn7\n",
       "vQHAehiNbpLlaGVqbyMkyeoppishdVXsAGCMd2hSh4kEyvA0+wiv8IRvzFMQrd98VLEYzGT2jUQP\n",
       "7kR7ynMqlNBe7GX8ts5Ri0SMt/2Z7ISpAyRxPxGylnjmqhbCWowx/dvGBZMPh76/A/JTYdIgquP6\n",
       "zU8u4MIFcYF9nbkuYbcj/KGsFHY5JFgNUYxWeq3Bcn9pbMUGmw/2yS+kYBO7DZ/3ALlZvG6y5HB/\n",
       "g6Qd2oS2CoJ7tLX5lGBf2y20UvdNBhaeWqI4q37b+8teJDZu66jlsx5IJu4RbzU/8dqc3yeoAcfp\n",
       "nMusV0qjW+Sl7W1AL8Pqm/WevWuylleOzFsy7xNfLcg1dOgqowltrEzFROi33t+mQpmv5YaGy6cB\n",
       "jBCbYHbPX/IOy05WYqA6h/gvMAne70/sYwMIt/BCIIaLRvm5wiUAAAIoQZrJSeEPJlMCCf/+tSqA\n",
       "GUGSwrnMa7RzCYAQ9SZeOsipNttbypwxGAbQO/T7+xeAML4G2K/upYQZzI5jH+LlD3pfJpQSkWGK\n",
       "BQkGEp+W+6f+0gikKmhocFr+MunCbdILYUmk2dlOtBiKvZNWvkgKWUyMsvPm2smur1I5hB/wHdk/\n",
       "K0UD/BSY6OT1ppozL/uYnEgtOIEwRtgDh6KP246u2h8BHkMwNrkOm03BuzUXG5vIJHbtms2rP8Ro\n",
       "n5pIlIHpX5YpTlNVhwZcJPjOBCEUh15WI94fDViwKia+YQE+mWShjOyehadc5PvKQmtsnW50ZMvh\n",
       "8EQ6iOIcHlmT9E5LAT51y68t1qnFG/MZCBcHC5f9YXMpnm0PqzGtklT1+VxyGla74ri1cGNSeTyY\n",
       "owjjO4/8MYouHqYmAEQPp9vOtmJBu7tgKH8dM8Y1O/RUXMnCY9EyOz5zRsTekSogymBa2Cp5Xglz\n",
       "/vEBDPyuLJ/Doo+qEOiSwIsxTDYm3MaYzkCNT2BDUtUY2hVz3t8jlQZKvGwNPQ402JxnDLMUsOJj\n",
       "z9MAIymoM3DjpxHcDtNyehp7J1RkZb31uilfbUkjTMZt24JibKRqXtYOFrDfWRRghuBh3Hdi+EWF\n",
       "YIo44L8CgXRx4ExkkUo1y0AUq2anw8uVwYlIIklEjNeTA5vUBXyTyh9gnysZb/r8ZOqWPpxLwE8Q\n",
       "ZoXyo193deSalbV07dBL6bj0OoYOKSJAAAADHUGa7UnhDyZTAgl//rUqgKlsaj8CKzbX9aYMNYUO\n",
       "xHmotNgBuBJxYHrGL/eHGWM8gq8mbLSnB3qJ5HJDO2Scln93mHEXDBUpKfNYV8qiZ2SncFJZmPu9\n",
       "3lNjFp71pWVARyKrS27tXTtGcyErqVfaSUr5r/NfiFV/BCARmPIWnORNmZIwD/C/blSnKejSrNB5\n",
       "qgwhUso1vQPpT1t58PR6PY8RC5C0kc4u2nCSOeXXy+rStWGIo2hQy8RyzksUM5Ws6vg2Jq/4QrjE\n",
       "tjj8vxiTsgeiBbe3ephhrkzicYACqsWb5672A3lJ8okxN5gF0QRL0nizIDfw3kjUlnLLh84gwGtX\n",
       "2e6KbGliI2kya6F8d4YyglNYuLbeDe8jta46Elrb7H9CoK0yeOlU861mD36etRuqe96THrm6mWbH\n",
       "gUTn0j5nWK4DWdGdG+Tqai4gkeDZM4/8b5+nT3rLKZKZCfvJkdC+25or4uMY4RlRoeDLCGQEOXpB\n",
       "FVnvZAJolZHgJVvwMttipkxlrfKVn8Y9/UzcbRVK6ygJcIXTAtz8Kz5MwUbAlcn0wwn90pB3wa5z\n",
       "RwjwQlRles7mgPn73dhrGVNbfr+++/TTe1PEbReZ2WsrwHlrcgF+oigrZnxjvlYyEpgtJUWeGlzV\n",
       "pcaJkzJg1Y6/DnYfUSqpRJTPM63Vrxw85+OIMOp7+e//GkjT68SId8SOOqfh76PLxqWkiYWJLrg5\n",
       "HUqw86eBUDnRgLIh91wqQ+vy/goEmQeimnqK2vgD0OOTJ1OZnPi+zeZ0S6XRq6LO+lCho/sG/W3C\n",
       "WRkd+QNf/LGWrmuUW5kamvpbRGSJWJBzFyWtDXXU1axEAKteXOaDVnucpZQ5QwuZWjZVzVVRrY/I\n",
       "MBQMOOzJTQPQHvUPwSx52x/IjmfdoarKdllc1yitVvNfpt0/doj4j5rq5O8O05KMFCV6nFd+g0US\n",
       "nhss7mnZ7MH73L06mQSvOOKhIJ77qYDPz2mCG2BP//K0l58E2SUTjYqsM9u5uEDYAbPdU/A1kKfJ\n",
       "7pXkent67P/hy/hN8BhYCwGjIRN8XQcKB9OfAAABBEGfC0URPBD/AERh7OpOURbggzI6AALeuTU3\n",
       "nstTlMsXjQsyoRbNzGOmkmrmWSBDwhAshLPeGZvcAs2HK3tazqItnXN/KFgRo1ifvR82Pkhj+n9l\n",
       "ioy3CVVupNW3HZgdj2WaOuIIMQ4ee3KwT7oDBix2gT95r4nsfJwrI3R/DAC6j3B+4JjivhTjXNzC\n",
       "spW+7hQXNj4r0xzSY0dGbN6IxGt2KCHmrMaaxce+4rseir/zIKHteZopGrmpGS346dZ6xpCqI3LZ\n",
       "rcD2bjWgXbA0wPmVmvmm6G66WhdDP3s/uRSJX98F3Rdo2xJiTPMYSJWiMqh+6suaBCJy4Hw518FF\n",
       "NGpm3nOAAAAAlAGfKnRD/wCP3Ki7HEorvqLRT0AE7IUo0K2+IFQmPGsj0PJ1EnygBQKGokSrRII7\n",
       "z9M98aVQMnAFTpSAykyqTfDNmeNw/UCz5rr6/6bWxpYkOOUCDEMbhUg2JKmkQ/SpOquKBIGmD3vA\n",
       "339ysBUtt7H83Az+HbGzRvQloEF3XY3jjePUu7sMCvLuz7dhIqMdAgZxwmAAAACIAZ8sakP/AD8s\n",
       "6OAoG1yitHZ5WHffGQALN195wpOsuwqTsWtSnLjpAA99wFrIAEYJHTxvty0O4HvjNG28L7gEdLaz\n",
       "sPkhmI6Z5NNgLyvpyLQ5BhO3/mKPmFwAUPcFgznseDOTugSRt2Fc3BR77/+cqeiyM8X2IbRvPagB\n",
       "hAHQ+Q/uaIuvLqxNwQAAAYFBmy9JqEFomUwU8Ev//rUqgAwTg6qBRUAF1Tpb5ulNkZC6DieDLuo2\n",
       "AV223ik+lNA8hSBfJHZIAfYfAyTWlNi418HzBgwXi4FRFCd0GTgX9SDzXu0VVGMbzAjyxvlHndLU\n",
       "tG7MXFbe3IJSOw6+82XoU3nZ+DXqy0LBzaJXbP7U/7c2zIAe4u7NGe7TcqIfmjVG3A7sokIGgb9s\n",
       "dLnjF7y113gla7/qr0dZ/PQCvXAZ1upAeKwlxVVMbZpmtmGaRhRp2/63SXxMMDhWOkKN7d+/yScr\n",
       "c8PaYPsgcD24v/sfAeHpth9KAj2le/bvVayj016TD4jyTr2aVb88bfvVcF4WK68P0HefAb2K0UwZ\n",
       "eWhZZBzKxw2B8VxHLEZPFDv0w33d46+lQ4LQdEkuccwLq7BBYv2nJDF2gcMA9jyQezbzx2lARUci\n",
       "3dqleQJcPSvYqKqzcAVUO3jjjia7IvhIoVPhW1jgpjDNpz0shfBQbLMeo6wTuoPMszBxxg7hjOTy\n",
       "OH+pAAAAfgGfTmpD/wAgr90egl595AArpH8fws5Z6IhyActl6xsO/WtVrHejEbQo1cvYQidUssDr\n",
       "NRbq430ncXf22nkKyvEj52bblbnzNZEQBxEaC6HLhYrZUzRT2FtKDx094FJcetDtrEOVKBU71q37\n",
       "N3wYPDNhculP/qp3wNtJv4OEVQAAAZFBm1FJ4QpSZTBSwR/+tSqADAcvTXoAN2QWxmYwKbaR8LiF\n",
       "tseYVKtl2v2JqzTDWdykY3UG5g5/C36r2806yU1PoM53hIqbszvs+efJJv7Q21Ng0y3ewVuRDHX5\n",
       "4inMtqqEMVMUg3WEF76YdOXfyABbaccyqsAM8Nm5S72P/y6sf549LzO7mX2/EJLq0yYxzhdh8HHg\n",
       "4vhGnjv/23UZEr4EeTQ4/S8mE53FyXOsgAao5pwgWhwrLsKHrX1L/rxnFE3kcNGXNQfKDtk1jhN0\n",
       "BzTXf67Nh5qEnYFsrhnHTwCY1uS68JJqBX5unuypOLq9TM1BmkfKsAyKKMR+2sQaqdYm6wPIyZ46\n",
       "bBIyeDG3tTGKPu0llIaQm1bNxfjNAjO3jPp/Vasq80vQT9gueBMlsRGq23KxdoXrAmIb/DDw8oeI\n",
       "THzqGuSv3Tik5LX6Qk8OCRNXgPzrmJ0TJstXaa/Ge1WHaYEtAhLy318hnmKwLi+RJ0zfovZhjUZ4\n",
       "o0bAgYUSHaeTQRg8xrNWsvizLkkyx/dtgAAAAIgBn3BqQ/8AIK78FMABuAcmMyX73uWy9H9YcJpj\n",
       "Ks/09xcVgcE1vUyM4ClnosNcRiOJlhn+mfRukBTX5RtXYF+AVTdE31z4qteOx+z2qVNc2uf74zm1\n",
       "24fOlwzjNgZ/xKykwDzlnS4qk47cf1ySQXac4eSz0cCFJhgltnKCkIuJrbkY6P5t6YHAAAAA8kGb\n",
       "c0nhDomUwUTD//6plgBdvjz2cAG6imJ7n5d7zKpKIGnOUTDRt039Tr49SrRinnmxlGPKSUyf/90w\n",
       "3V7FKjm4e67PyylwvkXiNKYCvYUJf7Aioa4EHzlpd4zMiK6B7y153QkaajdZGT7HVTKFv0MTnWGf\n",
       "WLJh80OmjS3mwOp2w0GBJuE8f9CuGdvhAaUuhRwVSXul+SwpNYkoOx+jBLeYXm+G7UCWHXxWVTw7\n",
       "nVVBLzEL60EYdJHLCGPaYLPPhXFMd+O/BIzALIfMLgYMr0csQi4nlvn2wvLyKdBKv5u81aLzZtdS\n",
       "+CKW6vtlCqGzzTFRAAAAgQGfkmpD/wAgpU4DPWDl5Nm9XoSAC6mX6VPOcVKoEWJin5JNszLw9A4E\n",
       "LcQS4tn1+ARigAnTRIudkZ+obKJuAxITLMh8yX4ofUr+87oYpdl7/h3F3bLo7QS0BBCNUQAHYYuU\n",
       "9ICMG4bFF6WBt2BLmPOPeica7p+zxbvvK04bmpoIdAAABA5tb292AAAAbG12aGQAAAAAAAAAAAAA\n",
       "AAAAAAPoAAAPoAABAAABAAAAAAAAAAAAAAAAAQAAAAAAAAAAAAAAAAAAAAEAAAAAAAAAAAAAAAAA\n",
       "AEAAAAAAAAAAAAAAAAAAAAAAAAAAAAAAAAAAAAAAAAACAAADOHRyYWsAAABcdGtoZAAAAAMAAAAA\n",
       "AAAAAAAAAAEAAAAAAAAPoAAAAAAAAAAAAAAAAAAAAAAAAQAAAAAAAAAAAAAAAAAAAAEAAAAAAAAA\n",
       "AAAAAAAAAEAAAAABsAAAASAAAAAAACRlZHRzAAAAHGVsc3QAAAAAAAAAAQAAD6AAABAAAAEAAAAA\n",
       "ArBtZGlhAAAAIG1kaGQAAAAAAAAAAAAAAAAAACgAAACgAFXEAAAAAAAtaGRscgAAAAAAAAAAdmlk\n",
       "ZQAAAAAAAAAAAAAAAFZpZGVvSGFuZGxlcgAAAAJbbWluZgAAABR2bWhkAAAAAQAAAAAAAAAAAAAA\n",
       "JGRpbmYAAAAcZHJlZgAAAAAAAAABAAAADHVybCAAAAABAAACG3N0YmwAAACzc3RzZAAAAAAAAAAB\n",
       "AAAAo2F2YzEAAAAAAAAAAQAAAAAAAAAAAAAAAAAAAAABsAEgAEgAAABIAAAAAAAAAAEAAAAAAAAA\n",
       "AAAAAAAAAAAAAAAAAAAAAAAAAAAAAAAAAAAY//8AAAAxYXZjQwFkABX/4QAYZ2QAFazZQbCWhAAA\n",
       "AwAEAAADACg8WLZYAQAGaOvjyyLAAAAAHHV1aWRraEDyXyRPxbo5pRvPAyPzAAAAAAAAABhzdHRz\n",
       "AAAAAAAAAAEAAAAUAAAIAAAAABRzdHNzAAAAAAAAAAEAAAABAAAAoGN0dHMAAAAAAAAAEgAAAAEA\n",
       "ABAAAAAAAQAAGAAAAAABAAAIAAAAAAEAABgAAAAAAQAACAAAAAABAAAYAAAAAAEAAAgAAAAAAwAA\n",
       "EAAAAAABAAAoAAAAAAEAABAAAAAAAQAAAAAAAAABAAAIAAAAAAEAABgAAAAAAQAACAAAAAABAAAY\n",
       "AAAAAAEAAAgAAAAAAQAAGAAAAAABAAAIAAAAABxzdHNjAAAAAAAAAAEAAAABAAAAFAAAAAEAAABk\n",
       "c3RzegAAAAAAAAAAAAAAFAAAFQ0AAAUFAAABOQAAA7EAAAD5AAADCQAAAL0AAAIzAAACIAAAAiwA\n",
       "AAMhAAABCAAAAJgAAACMAAABhQAAAIIAAAGVAAAAjAAAAPYAAACFAAAAFHN0Y28AAAAAAAAAAQAA\n",
       "ACwAAABidWR0YQAAAFptZXRhAAAAAAAAACFoZGxyAAAAAAAAAABtZGlyYXBwbAAAAAAAAAAAAAAA\n",
       "AC1pbHN0AAAAJal0b28AAAAdZGF0YQAAAAEAAAAATGF2ZjU3LjgzLjEwMA==\n",
       "\">\n",
       "  Your browser does not support the video tag.\n",
       "</video>"
      ],
      "text/plain": [
       "<IPython.core.display.HTML object>"
      ]
     },
     "execution_count": 1,
     "metadata": {},
     "output_type": "execute_result"
    },
    {
     "data": {
      "image/png": "[encoded data removed]",
      "text/plain": [
       "<Figure size 432x288 with 1 Axes>"
      ]
     },
     "metadata": {
      "needs_background": "light"
     },
     "output_type": "display_data"
    }
   ],
   "source": [
    "import numpy\n",
    "from matplotlib import pyplot\n",
    "from matplotlib import animation, rc\n",
    "from IPython.display import HTML\n",
    "%matplotlib inline\n",
    "\n",
    "nx = 41\n",
    "dx = 2 / (nx - 1)\n",
    "nt = 20    #the number of timesteps we want to calculate\n",
    "nu = 0.3   #the value of viscosity\n",
    "sigma = .2 #sigma is a parameter, we'll learn more about it later\n",
    "dt = sigma * dx**2 / nu #dt is defined using sigma ... more later!\n",
    "\n",
    "x = numpy.linspace(0, 2, nx)\n",
    "u = numpy.ones(nx)      #a numpy array with nx elements all equal to 1.\n",
    "u[int(.5 / dx):int(1 / dx + 1)] = 2  #setting u = 2 between 0.5 and 1 as per our I.C.s\n",
    "fig, ax = pyplot.subplots()\n",
    "line, = ax.plot(x, u)\n",
    "\n",
    "def diffusion(n, u, u_old):\n",
    "    u_old = u.copy()\n",
    "    for i in range(1, nx-1):\n",
    "        u[i] = u_old[i] + nu * dt / dx**2 * (u_old[i+1] - 2 * u_old[i] + u_old[i-1])\n",
    "        line.set_data(x, u)\n",
    "\n",
    "u_old = u\n",
    "anim = animation.FuncAnimation(fig, diffusion, fargs=(u,u_old), frames=nt)\n",
    "HTML(anim.to_html5_video())"
   ]
  },
  {
   "cell_type": "markdown",
   "metadata": {},
   "source": [
    "## Learn More"
   ]
  },
  {
   "cell_type": "markdown",
   "metadata": {},
   "source": [
    "For a careful walk-through of the discretization of the diffusion equation with finite differences (and all steps from 1 to 4), watch **Video Lesson 4** by Prof. Barba on YouTube."
   ]
  },
  {
   "cell_type": "code",
   "execution_count": 2,
   "metadata": {
    "jupyter": {
     "outputs_hidden": false
    }
   },
   "outputs": [
    {
     "data": {
      "image/jpeg": "[encoded data removed]",
      "text/html": [
       "\n",
       "        <iframe\n",
       "            width=\"400\"\n",
       "            height=\"300\"\n",
       "            src=\"https://www.youtube.com/embed/y2WaK7_iMRI\"\n",
       "            frameborder=\"0\"\n",
       "            allowfullscreen\n",
       "        ></iframe>\n",
       "        "
      ],
      "text/plain": [
       "<IPython.lib.display.YouTubeVideo at 0x7f86ade3f780>"
      ]
     },
     "execution_count": 2,
     "metadata": {},
     "output_type": "execute_result"
    }
   ],
   "source": [
    "from IPython.display import YouTubeVideo\n",
    "YouTubeVideo('y2WaK7_iMRI')"
   ]
  },
  {
   "cell_type": "code",
   "execution_count": 3,
   "metadata": {
    "jupyter": {
     "outputs_hidden": false
    }
   },
   "outputs": [
    {
     "data": {
      "text/html": [
       "<link href='http://fonts.googleapis.com/css?family=Fenix' rel='stylesheet' type='text/css'>\n",
       "<link href='http://fonts.googleapis.com/css?family=Alegreya+Sans:100,300,400,500,700,800,900,100italic,300italic,400italic,500italic,700italic,800italic,900italic' rel='stylesheet' type='text/css'>\n",
       "<link href='http://fonts.googleapis.com/css?family=Source+Code+Pro:300,400' rel='stylesheet' type='text/css'>\n",
       "<style>\n",
       "    @font-face {\n",
       "        font-family: \"Computer Modern\";\n",
       "        src: url('http://mirrors.ctan.org/fonts/cm-unicode/fonts/otf/cmunss.otf');\n",
       "    }\n",
       "    div.cell{\n",
       "        width:800px;\n",
       "        margin-left:16% !important;\n",
       "        margin-right:auto;\n",
       "    }\n",
       "    h1 {\n",
       "        font-family: 'Alegreya Sans', sans-serif;\n",
       "    }\n",
       "    h2 {\n",
       "        font-family: 'Fenix', serif;\n",
       "    }\n",
       "    h3{\n",
       "\t\tfont-family: 'Fenix', serif;\n",
       "        margin-top:12px;\n",
       "        margin-bottom: 3px;\n",
       "       }\n",
       "\th4{\n",
       "\t\tfont-family: 'Fenix', serif;\n",
       "       }\n",
       "    h5 {\n",
       "        font-family: 'Alegreya Sans', sans-serif;\n",
       "    }\t   \n",
       "    div.text_cell_render{\n",
       "        font-family: 'Alegreya Sans',Computer Modern, \"Helvetica Neue\", Arial, Helvetica, Geneva, sans-serif;\n",
       "        line-height: 135%;\n",
       "        font-size: 120%;\n",
       "        width:600px;\n",
       "        margin-left:auto;\n",
       "        margin-right:auto;\n",
       "    }\n",
       "    .CodeMirror{\n",
       "            font-family: \"Source Code Pro\";\n",
       "\t\t\tfont-size: 90%;\n",
       "    }\n",
       "/*    .prompt{\n",
       "        display: None;\n",
       "    }*/\n",
       "    .text_cell_render h1 {\n",
       "        font-weight: 200;\n",
       "        font-size: 50pt;\n",
       "\t\tline-height: 100%;\n",
       "        color:#CD2305;\n",
       "        margin-bottom: 0.5em;\n",
       "        margin-top: 0.5em;\n",
       "        display: block;\n",
       "    }\t\n",
       "    .text_cell_render h5 {\n",
       "        font-weight: 300;\n",
       "        font-size: 16pt;\n",
       "        color: #CD2305;\n",
       "        font-style: italic;\n",
       "        margin-bottom: .5em;\n",
       "        margin-top: 0.5em;\n",
       "        display: block;\n",
       "    }\n",
       "    \n",
       "    .warning{\n",
       "        color: rgb( 240, 20, 20 )\n",
       "        }  \n",
       "</style>\n",
       "<script>\n",
       "    MathJax.Hub.Config({\n",
       "                        TeX: {\n",
       "                           extensions: [\"AMSmath.js\"]\n",
       "                           },\n",
       "                tex2jax: {\n",
       "                    inlineMath: [ ['$','$'], [\"\\\\(\",\"\\\\)\"] ],\n",
       "                    displayMath: [ ['$$','$$'], [\"\\\\[\",\"\\\\]\"] ]\n",
       "                },\n",
       "                displayAlign: 'center', // Change this to 'center' to center equations.\n",
       "                \"HTML-CSS\": {\n",
       "                    styles: {'.MathJax_Display': {\"margin\": 4}}\n",
       "                }\n",
       "        });\n",
       "</script>\n"
      ],
      "text/plain": [
       "<IPython.core.display.HTML object>"
      ]
     },
     "execution_count": 3,
     "metadata": {},
     "output_type": "execute_result"
    }
   ],
   "source": [
    "from IPython.core.display import HTML\n",
    "def css_styling():\n",
    "    styles = open(\"custom.css\", \"r\").read()\n",
    "    return HTML(styles)\n",
    "css_styling()"
   ]
  },
  {
   "cell_type": "markdown",
   "metadata": {},
   "source": [
    "> (The cell above executes the style for this notebook.)"
   ]
  }
 ],
 "metadata": {
  "kernelspec": {
   "display_name": "Python 3",
   "language": "python",
   "name": "python3"
  },
  "language_info": {
   "codemirror_mode": {
    "name": "ipython",
    "version": 3
   },
   "file_extension": ".py",
   "mimetype": "text/x-python",
   "name": "python",
   "nbconvert_exporter": "python",
   "pygments_lexer": "ipython3",
   "version": "3.7.3"
  }
 },
 "nbformat": 4,
 "nbformat_minor": 4
}
