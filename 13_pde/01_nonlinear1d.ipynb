{
 "cells": [
  {
   "cell_type": "raw",
   "metadata": {},
   "source": [
    "Text provided under a Creative Commons Attribution license, CC-BY.  All code is made available under the FSF-approved BSD-3 license.  (c) Lorena A. Barba, Gilbert F. Forsyth 2017. Thanks to NSF for support via CAREER award #1149784."
   ]
  },
  {
   "cell_type": "markdown",
   "metadata": {},
   "source": [
    "[@LorenaABarba](https://twitter.com/LorenaABarba)"
   ]
  },
  {
   "cell_type": "markdown",
   "metadata": {},
   "source": [
    "12 steps to Navier–Stokes\n",
    "======\n",
    "***"
   ]
  },
  {
   "cell_type": "markdown",
   "metadata": {},
   "source": [
    "This Jupyter notebook continues the presentation of the **12 steps to Navier–Stokes**, the practical module taught in the interactive CFD class of [Prof. Lorena Barba](http://lorenabarba.com). You should have completed [Step 1](./01_Step_1.ipynb) before continuing, having written your own Python script or notebook and having experimented with varying the parameters of the discretization and observing what happens.\n"
   ]
  },
  {
   "cell_type": "markdown",
   "metadata": {},
   "source": [
    "Step 2: Nonlinear Convection\n",
    "-----\n",
    "***"
   ]
  },
  {
   "cell_type": "markdown",
   "metadata": {},
   "source": [
    "Now we're going to implement nonlinear convection using the same methods as in step 1.  The 1D convection equation is:\n",
    "\n",
    "$$\\frac{\\partial u}{\\partial t} + u \\frac{\\partial u}{\\partial x} = 0$$\n",
    "\n",
    "Instead of a constant factor $c$ multiplying the second term, now we have the solution $u$ multiplying it. Thus, the second term of the equation is now *nonlinear*. We're going to use the same discretization as in Step 1 — forward difference in time and backward difference in space. Here is the discretized equation.\n",
    "\n",
    "$$\\frac{u_i^{n+1}-u_i^n}{\\Delta t} + u_i^n \\frac{u_i^n-u_{i-1}^n}{\\Delta x} = 0$$\n",
    "\n",
    "Solving for the only unknown term, $u_i^{n+1}$, yields:\n",
    "\n",
    "$$u_i^{n+1} = u_i^n - u_i^n \\frac{\\Delta t}{\\Delta x} (u_i^n - u_{i-1}^n)$$"
   ]
  },
  {
   "cell_type": "markdown",
   "metadata": {},
   "source": [
    "As before, the Python code starts by loading the necessary libraries. Then, we declare some variables that determine the discretization in space and time (you should experiment by changing these parameters to see what happens). Then, we create the initial condition $u_0$ by initializing the array for the solution using $u = 2\\ @\\ 0.5 \\leq x \\leq 1$  and $u = 1$ everywhere else in $(0,2)$ (i.e., a hat function)."
   ]
  },
  {
   "cell_type": "code",
   "execution_count": 1,
   "metadata": {},
   "outputs": [
    {
     "data": {
      "image/png": "[encoded data removed]",
      "text/plain": [
       "<Figure size 432x288 with 1 Axes>"
      ]
     },
     "metadata": {
      "needs_background": "light"
     },
     "output_type": "display_data"
    }
   ],
   "source": [
    "import numpy\n",
    "from matplotlib import pyplot\n",
    "from matplotlib import animation, rc\n",
    "from IPython.display import HTML\n",
    "%matplotlib inline\n",
    "\n",
    "\n",
    "nx = 41\n",
    "dx = 2 / (nx - 1)\n",
    "nt = 20    #number of timesteps we want to calculate\n",
    "dt = .025  #amount of time each timestep covers (delta t)\n",
    "\n",
    "x = numpy.linspace(0, 2, nx)\n",
    "u = numpy.ones(nx)\n",
    "u[int(.5 / dx) : int(1 / dx + 1)] = 2\n",
    "fig, ax = pyplot.subplots()\n",
    "line, = ax.plot(x, u)"
   ]
  },
  {
   "cell_type": "markdown",
   "metadata": {},
   "source": [
    "The code snippet below is *unfinished*. We have copied over the line from [Step 1](./01_Step_1.ipynb) that executes the time-stepping update. Can you edit this code to execute the nonlinear convection instead?"
   ]
  },
  {
   "cell_type": "code",
   "execution_count": 2,
   "metadata": {
    "jupyter": {
     "outputs_hidden": false
    }
   },
   "outputs": [
    {
     "data": {
      "text/html": [
       "<video width=\"432\" height=\"288\" controls autoplay loop>\n",
       "  <source type=\"video/mp4\" src=\"data:video/mp4;base64,AAAAHGZ0eXBNNFYgAAACAGlzb21pc28yYXZjMQAAAAhmcmVlAAAwUG1kYXQAAAKtBgX//6ncRem9\n",
       "5tlIt5Ys2CDZI+7veDI2NCAtIGNvcmUgMTUyIHIyODU0IGU5YTU5MDMgLSBILjI2NC9NUEVHLTQg\n",
       "QVZDIGNvZGVjIC0gQ29weWxlZnQgMjAwMy0yMDE3IC0gaHR0cDovL3d3dy52aWRlb2xhbi5vcmcv\n",
       "eDI2NC5odG1sIC0gb3B0aW9uczogY2FiYWM9MSByZWY9MyBkZWJsb2NrPTE6MDowIGFuYWx5c2U9\n",
       "MHgzOjB4MTEzIG1lPWhleCBzdWJtZT03IHBzeT0xIHBzeV9yZD0xLjAwOjAuMDAgbWl4ZWRfcmVm\n",
       "PTEgbWVfcmFuZ2U9MTYgY2hyb21hX21lPTEgdHJlbGxpcz0xIDh4OGRjdD0xIGNxbT0wIGRlYWR6\n",
       "b25lPTIxLDExIGZhc3RfcHNraXA9MSBjaHJvbWFfcXBfb2Zmc2V0PS0yIHRocmVhZHM9NiBsb29r\n",
       "YWhlYWRfdGhyZWFkcz0xIHNsaWNlZF90aHJlYWRzPTAgbnI9MCBkZWNpbWF0ZT0xIGludGVybGFj\n",
       "ZWQ9MCBibHVyYXlfY29tcGF0PTAgY29uc3RyYWluZWRfaW50cmE9MCBiZnJhbWVzPTMgYl9weXJh\n",
       "bWlkPTIgYl9hZGFwdD0xIGJfYmlhcz0wIGRpcmVjdD0xIHdlaWdodGI9MSBvcGVuX2dvcD0wIHdl\n",
       "aWdodHA9MiBrZXlpbnQ9MjUwIGtleWludF9taW49NSBzY2VuZWN1dD00MCBpbnRyYV9yZWZyZXNo\n",
       "PTAgcmNfbG9va2FoZWFkPTQwIHJjPWNyZiBtYnRyZWU9MSBjcmY9MjMuMCBxY29tcD0wLjYwIHFw\n",
       "bWluPTAgcXBtYXg9NjkgcXBzdGVwPTQgaXBfcmF0aW89MS40MCBhcT0xOjEuMDAAgAAAD9dliIQA\n",
       "E//+97GPgU3IAA2XOop6H+EVsfSQUXqx2aBk6gAAAwAAiYGOFkC1uVpxUAAA48P/R/gAJ0BCh1aw\n",
       "9Bg/0JxRpZqeolmT8MeK6NVYaPQdA5NHhrytMJJNr3cJKkFqV9tUBMhglrQObnNO3SCYPW6JZzNC\n",
       "RUUXhlN9AwubU1fugceZtzHtIRNB0k7+baBcInQCIrVqudvfgfKyao6vNIOh193/fEVWbLVdnaG0\n",
       "15BKGW9v8bX0Vk2BYrmxGy8MRGrEBS8R5SZGCi7dhxg3/vWY1fMBEJZ4f8s7UDnt1RnWYorzM6lO\n",
       "aeYOdxKrdqpv1WvuM2knIlkvcrHq7sNoHOxUPmlKTJ3SjfG22in8IPBShUHb8ejPJAASyt7BjQEx\n",
       "3H4AQhlNuf8aqD2FWyMd1UNpiwsbRQHo5Wy9GuP/3jRLZRXi4bkZ1ohQ5Sgz79UsaqpoNK2TEWrQ\n",
       "nlOu61mV8cKmdkWlyCLp8Rvw2FVv+v5QM5TJS44VH7+IsGRCN4vupZKwxD90s4WSKYhIGVgI9Fr2\n",
       "l2gW3Qh5HrMbk9lx8GxuIq/mAaLePPgJ4U6cb8qyg3G295wp4MLaEs0sgVavwgv9b23oHBDmc/65\n",
       "ygPvoc4a+9BS951L0hXOduQ4ZVmWKVFrwtbIzt9f0s/e6WXmcdylRHUrHeVodX8oxH0oBKjPrJff\n",
       "BuopfwRNjBRwX8fnMUgr10FU7wE1BpnYC5ENJU3wKhy+p6Odz0uxBwMnmfireV+mA/chxasTUbeF\n",
       "n3saR8JRvPzF8D28a9ZgJsXOSibWxw5HeXorgvYHt3SLgLsEw0VKLTXOvrtDX4JYrS7vJur+NKhf\n",
       "vpyFg+lOQmp9AZfghxHHkFyQGdED+u5EuKvdY+QOs6kCbBTrqE94jqM9zO4pmJE2xPVZ6HZok+lP\n",
       "87iOfTaSIdvjingkvG4tmj+77vsVGze952oWFHvTc6YxekGkZLzzXVqlb+2XmcXdGmv8TvP68uav\n",
       "o1kuioCbuh/VEGtwwlbEh6+TKU0CtbzPN8fgx6air6+TIPZ4+ic00lC4CasRUvj7V4UsTtvTHcjQ\n",
       "CduG+BzKpb0s/F+0KELWzf8wdo8ik/c7Np+kxJOSdnEiN466BzBmYlE8HdN6gkRiwC2Oav95k8l1\n",
       "wja5sU9TtP2w3V+XpJPZoLESDNfZpcHVAKl/hsGxw/nKASK9biys6L7hP0qKCdn4zbUAkjH9drhT\n",
       "tlwZPp/p2U7DTyRAfWqeQS+BANJlvuiuRUER1zbgjxuc75GVT0t+NchAzfMOq5dCFYKgyOAeFgFZ\n",
       "JZwILgROkjQtfs0aEngh0BxjL/GLr038KkdnEtzGGxkAhMdkQhabozy0MtCRFO2t1LZDvGOq7r9n\n",
       "/C6IinB2tdGfJ7RbjIXPqQiag+clq6FYfrAGgT6GOhoj8d4YQfKrIbyABPn7t8ssOkROap5qlL1f\n",
       "M+JlR6MVBWAP2VTb1YAJWJrC8r8Hn0ajMzW+gpairx+2QSAy1zWlpbxxr3HUsjz+9nW+3Epb5pxn\n",
       "x9A6ZnQwTfwHvc5oJlBWW/2s/y1ooIl/6Sa/ma/tEPU7n3KXWjcv3AlmdkYJFQGXbKBwIz8vHX9E\n",
       "J+sm55eAxC7rttY+mVMsGjaULic/bq/eOasLhi6nc+7/CPK79vPBGb8wbvmnd+ABl7Ta5n1kZ/ux\n",
       "a7uqvjbZ+PwDMm1rzvguenuxsiyRB6X5wycuq79mIau7EYwUPKSJhJJn6Z1y78zEYyQnmEbPT+rU\n",
       "vpuObfSiqS1y4cnHJFioev9EBtoAllTYiepz9/mDnbOVXQ0O5uO5Akja5mjC/GdvlLqLDdFt7R5Z\n",
       "91LgF4lcGEChplnfmKc9tZRnPPXmhidqet+wShAv6K8vKJ9F/BJUq1CK5kTEaG0KfAgDhU4YG9iO\n",
       "lrBdVOSrctgacDbNerXoWy5XN9T5vKPl5blu1fO5F27f6FFEkiufX7hNu+mBQ8Z0DSgJ4k02Exis\n",
       "JT7yCU5/TsElXgeHFayhpKeGIUcetHBeuUVaSezwo21yucDQ/INzvSm+vFmOOtHNNGm0jRX0RzE2\n",
       "FDBof9i4/bzNt9KLpHz4wdHNrDKhER8ACmd2F2lUAJIpF4mSRES7VuAA+siKjSaJ8Gt76EC11nKj\n",
       "FNh8M9BOslJNb/X5H1aEIGhJ7k7YGwfudPE+fnbYSecfqIclx7/b+busoLLetjIElUnre+8jHHhz\n",
       "9S/3pnZSrtW5fZ9M9aN8v8/vff672gWcswyBL419praUz6oJyNQvdd6wUBfHlqVlspLhTHhjNMuC\n",
       "WkJrTxaT+aeHgrcuygpgs9d48cnwW6DhyihWzTc0g3JgOWhl8kr4z54EYqIef0v3OPGY+E+1i24B\n",
       "QX5iu4C0wmlIuPvl8AlGDs08NyerGsxT6VDhuqZvsqBUO2iikM3AuQ8NChuS6KSublprtM21d1Aw\n",
       "irgTnP0JRvoWbtlNbKZPdy3O4K9UsHfmCGHLPlkzTItHHuY6yCjU09SpLOhnfcW+Tt6+vH1u+lke\n",
       "O7EbbMfc3dZKwCbs6ZjJmE0UmxAfJFf9aGDM8nJR+KdsuPZ0QzmlFOxVTrbL0raKhbnDodorNN21\n",
       "yNpd96/nbw1iP9yZxfvcvNiXW0yDws2DLf4kH0ObsV3PVfFY1x194Onm9iLaFxgc7H5180F800i0\n",
       "5UZmeB4WtjXdWW3Rjkka+Ydwr/xvSgBdl6aVfXxSzuLjMjmvLqthgaa+rXPJRv07+bg/yWd9gSuE\n",
       "L0BBn0xKbt4QDY95OAt8HVLEhqDGmuFVkGlm0AlpPdkvsHuykm57ZF8J6QuXMK10hmq+p6C9c4Il\n",
       "w1bnIhiqs2fNrFfRtOfUKPqjKB/N/MnG7ICQNSptZD5Idf1HxGvRt3S7RTwHWBHT+HB1LtxSFDDq\n",
       "tneen6lkXqkNtoFmbtXf7Vn4HbBbJIQjLD6rMwqQMGooTOek9wD+vsOS79LsFdWdTScs+XrLiwri\n",
       "rCt4uoghZWt5jOMATb2Ws8V0+XS3TRDyKbwIUOKKuffX2ptuG0HDP//n/vrplhsBILQmTOQOZInA\n",
       "awWVhoEalkP9HjpkBjgAt0qV5vUMmR+/FASc1IlNcQuOjzzNr/5hKh4nHUoE5k74/B37Yio4J5fv\n",
       "nFeSJ5KC/olc/9OzG2k0jk0ltEQPCEmp9yBBR2tWdOUyPsvlPKn6SzrU80Y2Dkyv5aXGNA6A1x9W\n",
       "RtJ1pmveE7z8wkrLPJCgsnnaNx1I+T6HgWFU6ONsmKL8s9PwwJcQvc2JJkaa+XUET6FSanBjaLSk\n",
       "aFKqepVl5eaokzXPp/8lgNNoCX4Ww3GgYz2QSL2rlW0wpZ3XST4GSDl3VfZUbFEYWOnIR79sJQ1b\n",
       "RADGTAh/m6Wf3xDYeFKvsLH3eCYvN7UmfzvfpOY448cenm29chKGmgjlio0fJk1Acly19Q8DlBR1\n",
       "ms9+sBnhjA3qi61xe6J06C4q231jhULJ2bIvZFC/BHv6YAbJj+WEJQnBIwyvAsdsywweNT0d05EK\n",
       "0wiqVjt7w29xFmkUfjevZIy0Oys55qwMRnvdpPDRmeV9A/dbYbjpuXR7bXD6NuXp69NOHHte1nju\n",
       "H9X1YlA/X7svGnb44U3P8my/5AIWljcDaaWHrFtqll+ScjvbzboFc2GyOxSWsvQD4Gk9u9TkCjzB\n",
       "81YxnaDLuanleCS1II4qMLKJ6/sewnjf/XUDWd+c85MBviVp/4P+kEoiN5qmd2CVee814K9WJJky\n",
       "c/Wq8Mqb7jW/MU3aOwuUn6f0wEvjtQ8XBWuVUzXB6eGKERxsH4RFn0OMM51q2UlhsVbkaSij+MDx\n",
       "uUcG+J+oXFXWx5WYrZRsddk17ULhgg9fgJmuab1gNK04uqDz4Pb48AmJ4XedPkz5SBcUM6GNisUo\n",
       "XtzSzrYOLoJ9OX/Mn5IGcbvjg8xqG5QbP038pZtQ03HqFbJHMwzJtXHsn3kaBE2azAF6zlD2Jei4\n",
       "manv16oBLmz3/1GNGEqI5ggv7ENKlhPbX014t63dDSzPOALMOFPL1+jvNp9bSI/siJyaXjSIIRDG\n",
       "UUpFeASnj5hh+ndrblzSdrY3YiyUY/Sg+/P3PXw++uNULmjtP/cl+r6TWhJuu4wnJsDlWzgGFrc4\n",
       "aZLaCkuR/emZEdTTtKIc/CvVEpijGNIxFC+EkL/mdIN1sfaWP6YDlWvF2SNR9YcLevKP0ST0Ai4h\n",
       "iSpqPcIzwaCbqYJ17upyX/ZpZ4D0ds4LVJaCIZQO3/dflcYKMwyn703N/UecVz3G3l5LRikA7Nlf\n",
       "8x6xPtss5sjS69HZbjisdu4frpUWJWrlnezsu7OtIm/Ny0ee080canG8RkCE+35ZQGRhN/HrOsuc\n",
       "7BjYLsWWPfDPnIeJilcYRmaMFyRs4KOBPNhobDyi0qrdg6EvxWIudcFkBaA6TNR4Dx/8P9gKejuZ\n",
       "r2+BfSDmvzeZWWO062ndPVz2C9d3Km0fGv73NlAAtpvhmZYC77diLRy0etOvJ2swTNLw3WdcSHYD\n",
       "UoPAustYqDzfVqGSuiQbtZVHkE/nbgmVywA+7T1lufzk9b92HQ2Ix0CpTLU7jvz4JWrtzcPf4X7r\n",
       "IXSgbgGuWbUKYHwA0qye2OtGdvhZr3z5Pv1kI2IOh5tp0+JzJLW8KP5z/DLwDVyRjcoO/XfmwFqK\n",
       "faKKhymbXSDIAv/UmHhbw8w5/ZzUFm3v5V7tvaPeDZj7u3rtpZQYtabIRfhIUM2+rjN0HUEMp+ap\n",
       "tvyf+pRd0tEPa1g6/iWvIRAmpJvsvJxhPPV4+n0NqPFv/+cW8aB+j1Nux28dy3WIXaYtIE/pSV40\n",
       "364RlglH7KRPKlJDH9+NcVOQ+NHKmH5PP/yf8+ImMsTDj4vo0TbGIZYy2UJKzeQDjrA5ftIUxEzd\n",
       "iFmDMdfVEaPU+oHOmiZW3X7iJ7l9XHFXCXs2np4vJ9K1euBB0iCAjGq6Y68Renpvdt4d3AIKOApX\n",
       "4W9KFkJevbEmBWDg7xRIrqeCRJmRGFuyll+H0dgWeb84IOehuAKEPEmvvskwP0bDTGy7V7whB08z\n",
       "s6h/N/qG6x1MP6Jf98jL1sHcRgYixZTTsYi+YE1q8C+hmkdwlLHPYMzdT5miJqTp3L4tOD09ajU/\n",
       "/9jNSWOeT5B92lUGZdNB7BCJ5rKF/D/Zmx21gWiUPJhHGE91GueYBHnOb7B1bIb9v4gUT9crcfYk\n",
       "Ld/BTTueClWK+kdI3dBapczqdyL9/7vh9wWLcRFKdY10a6yDKSUbcUe6Nh3xePXR4g6fP+Vy++/U\n",
       "o221uiSnNks1VVHsTKU1SmWwjMFZz0wrsLDvA5wijj7r0LxIcb9/Jz1OD1Vt9rPP1h3mLBHsk4BO\n",
       "tMjaORlvGDwROjtcNQpGJZyC0r3JE+c9EUIs1mhKxxPF0BaNmOmz6w/Sn3uGITwjmgZ06iQp0ZeK\n",
       "YAHrCQAAA2NBmiNsQS/+tSqAGn9kbCe6F0H5D6huGAAdpj+fwZkYJ7gosmqmG2pw3J858cP2uBpH\n",
       "Rgv5d/+PnTF/BtPZOjQNwrCGl7EQFK/rqndAiL4fWW0WK2eWnaNT57+EyZAQ3fBmA+G5jUgIYMin\n",
       "Gk3t2H3W6yfkAkju6gluiIo+ZyUTLq9mZycfBdKXfX+HoeSb9ziNYUGSGut4fHdHjS6SPLrJSAT6\n",
       "Ojk91k9lIBtt0rtzowCaCPP6789w017h5fRMBUP+PymLgC8gkmUoZnymTdXFnXTNwqGbzTXVzMqb\n",
       "N6ZqZ7VCRvjMxbofnERWlZuak1W9gZSzSB0uA8UnHoDa5h5f4WdE/B68kkPXwBBqjRivG0ozQkZu\n",
       "Hi0NYT0SpRboVe8MsJSuPtTfRgrHYegWF4Es99sAQACaPTFjyi0vks0fEo7BbojC798N8kJuVGW1\n",
       "iMCRQmmKFPig6coNf0aWNd8TLlkeYwdb+yOFrB3VCyFAO8e6bDzdyLarQ+TwgFAwjs+u+JLINfw5\n",
       "6GT/qw0uKcL1fvajCv/7ZiKPiXG/z1x4i53gU7E//sIKF7n6cifLQeyAlfGzWkujgzfGKBShUWnb\n",
       "mnmJoKPQ7D6s2ivgdMKCKT/ooaHBJHgYfqq2bhveUvdYXTYqlpunVT5oXCSOgmYXFNwvjqyUY6jZ\n",
       "FYEJ567d2swcmWED2iFf+e/mqPhoS1wciuQRQl64L9L4CZGPm42Y5H0qRMvnQL6MmL0WtJEIID9w\n",
       "/wtlty50G2c84IEVmWgRjH1mamUep8iQ+QTdB4eNH7J1aCam8XsLy3vOJhie+VPTV+Fv/L/8aXOo\n",
       "lpIiqhMCtvlOGUVqm5spwWUbtVV87S04Qp0hIAuD3owEngdEL/Huj9jIuMr2qm2gi8qhzseLloKC\n",
       "3MhZCTzq8UGVNmXdP2xgEYWKxXotGInB+Dey3+1wazxoNmhmvG/pFPQJpDigAIOjfR07fwAkZ964\n",
       "n8RCGlVdSXiqT1nPJdUqfgtUftYB5sJKVOoavwysdHbzZCQ2FiIN0bRgqT5Lkio5jqyzY+NLGHyw\n",
       "limg0kJg8AzEvAvu6pPXzkiEqWP94BImz428thJEYLMPqwGomtkOhQdFo0U8/0D11sEbrWOH4NRi\n",
       "Q2lMzWYKnxlgdT2nYs4JyjFmSCwAAAHLQZ5BeIIfAB457edT6TW5mHItABspBIPR1QKPRJg6dYBQ\n",
       "diR8/QtC8Ym8lzoVWlm2LEhfb9M6V9KWCdsrTp30MDLCIhUy1darCOgPGk4PbeEzkH6xZP9fosmn\n",
       "4MQmddM+K3CAA6yi6F1iXLfOQKQJg+ZKo039Cn3MQ7LpnwGbQBYXuDx6rGenjmAUyIWh0Yym3K6/\n",
       "Wcg99lZyu2tXU7fP0XOwMFjgyKPp83+E8rwXUYoF9q17pZMdwQ8Zw9Q9ejVDuS/WilLrvFa1uAg+\n",
       "4goO9FbscbQ08WrkaHfJgU4K6rZ6TOxtkmDMZ3ivcpaA66ybrOMswixptGm3H5loK8rRZrXbI2xr\n",
       "p9vzNApZ43vQwA+H/kr4SBWNki9wNOxFmDQoUNaLyLniHsftNk0uOD6oy+GaTbNarFGZnuaa70DH\n",
       "g/Z+LUO7MnaD1ifCRis/9qvM2bUz0kvp+Ts0YqiWudqkFVmnrpg6X6xeK++4mH7q9BuZA0BRTYqo\n",
       "RFmCO+gt5nbZ6unEP/BAQs2maI+WIRstdBlK+bFLkXkHKSVLeZ40aYoGbHdgKHTdB1mKUDUSypJk\n",
       "dyB472CzC5ci9u14/Z+dj7ypySO1/3iWzY7tAAABcQGeYmpD/wBAEPw0f0AH8pq6Ey+enLhAhrKW\n",
       "mNagLMATHUSPhHs/Ag8gaeY+cZf6qVQDGzPGXdRiRu0ZcvEnjE2htoyye9B17eqzXIQFJJCVEbZb\n",
       "Utqwsa3nRBWqCgq1Zytk6nlfuZ0RDmNPWq1+8to4wzTkPeJSeCDGRNp9I/Sn/N5uX97zcKuIJU/6\n",
       "kOEfaaeBXVc+MD4x6JlBP85avA4aKRinFSiOs3oVWy4nlDTBWRxGsHCGTqcEusLsqZfAmS9lW50B\n",
       "b3Mam3KU3A+mBUbpftuAVaP4HarCDX6z1qfkJEh/poOHiC/orHA4IhEl7uJcSiqlp5RdhHuNPlsk\n",
       "gGjMoCgkp9d9NupjxIYvQCJcjOxtol1EfFqUeoYnAgTTohNg866L+uTvWXCkIEBkWblvQOQgsjqk\n",
       "SpVsM9pnwxi1w3skjQn/hPyJgv5fphb9r+QA8FsBJCJMS4jan+HW5B74Z73DqRA8w5rzEUHVSHBn\n",
       "wAAAAclBmmRJqEFomUwIJ//+tSqAGHp7VRQ7AAc3UyrWG5TrHgz3ivJw8W7sS4vsyXZs3NB3FVcU\n",
       "ViwXkcFM9hjEmX/8I60HmuWl0YcJalWFkSAsbN9iZxPIAL6HayybI4xkDJMWfX/FutfbL63GyaZ5\n",
       "QN6w9RP0+UK2dgdRR6lhv9trFT+wVuNiyi0nmJK0o3Lt9/dd4zpIxT1j68XRrILCP8nbqpPGtFKi\n",
       "fs6ffMBIXRsJoO/C/p9BM6xUH+gEqPY6v1jJUvC258RHP0Vpw+SphnRIcho6CSilTb+ODIbG9+4e\n",
       "ndSvrIn9aG9IfcBAtnHQtNVFYuikLP3MgOaeyxwo1iMPsu9r3dyiuo3ZxGSqGBjNWzkArX46r2Uw\n",
       "R7sEs4rYQi2gjIdXEcDopWo4a88nTnSQgRL4ztumdX5Fij0VqFVEjFSHRdP/bpBFr1967XzQnsQj\n",
       "irf35RU3SAER+1pBosYa8tE6g/zddu/Rkrti+jni5q9rguME3sMEAErEOiYXNIy30om2UDKO27JY\n",
       "gSQJ6EgOVI43LJNsylJPM7j+9CzhNVd8MEaZjet8q81g+QZVN/IuSkMP+xasgOuR0Vh+UYurMAUo\n",
       "WlEn21Q9AAABh0Gah0nhClJlMCCX//61KoAYj3ryE0ZmGEWVQAO0Oq4vYNCPgMvW6XQ2kAavwHkl\n",
       "9Dsf+4RJFR+cyiHnCfA6uZHU9NIA9xbW5n2FigLP4KHCVbRv/BQNBpmZP3VyvEWcffY0h1yDSQcK\n",
       "f6moWpkKCQnkeKded8Jc33p6CnJYBdhHtqfIOPBzcplUssq9sSmg0rHpz8Jt/cfhfNa/gjyuUwDQ\n",
       "awUyuS0+n8lc0k9Gc+8dwGGFR8bg1UAvSJBYL5+Hll6ube7GmTqXCZ8v2aDOfvkKLiJcvog17642\n",
       "StJ8xG/fIm1OxoxWr6UrdjGwFikpN/zJ+nXJ7Tf0pT5hGaBPFmlbLTA/RsHs/piz6edB9i1D3/LW\n",
       "xb69mxtrGJyeeF5teR4AJt+obW6JyTq1bIlv4Z4G4rnr02BgMbKe1moYDA4FC/8MOGt9zFOTmhoM\n",
       "1xsYb0BwG8vacXJox0bz8yMmVoLB8E1v30v0Gn0us+UjihvwkhJariSDxB0CUdtJQV7aWJRVR7oR\n",
       "XzkAAAGjQZ6lRTRMEP8AHNFize/2wLoAPFXc+klq0LobcuQZewyDzCpcorakcCD76q7UM394T0UR\n",
       "HgJriUWlmztIff0YSmcteXAeGJFWSZVIcjIYK37UzxPV+EWfGmlK0IKVuNo2tpE2bZ6yxirElRme\n",
       "Ntw4jRDAaKkSkrR5txZ705SkTZXIBO2DpCUyiROeDqFUuWyFTWFIyOCamLYIOWLSncAlZdqUa3P2\n",
       "Ux2xL0QL+GzFowPWxEVGRyXZx5RsNqKZKImzzMe42NBnOCjpodmRAKD6lKdsQDrqNis2YgMa7bK7\n",
       "TuoD9PeQbBYKUArZ9OVNpW61i1/3LBzCwMEVWm7AMlIcsqVxhDmNgM31hvUp1/srEdLHHa5lvLp7\n",
       "DrlVjF8dAB6raPLUUbM8cpt5AWbvarjISeSoGLljNhGo9mZZ7e7CZhc2DaY+BhXx+9bcE54zaBCA\n",
       "imE5su5olFz5t2Jajbf1F5XyvmNus/eqkXlLwBwXKIi/OZuZJm8kqTQxONvKLMQQ+4nhssDpyQ+L\n",
       "xW/BxLYYGGLbpjt/sBibBt7Mk5wBvCIs0dEAAAFUAZ7GakP/AD2+cr1x5UMqZyr0BIEAE4lv3ThD\n",
       "9QOfhzczRtkLkwdJnE5G2ymAk2ZO5U/3TqJxOSKWXQgJdan7Zt2e06bePO2IlQGGV5kkB6A+26oa\n",
       "iXKdttgrltOEEm5ggmh5Fr2/TKfanthcfl76R3PkVbevPzTmT1d4rRzPUkhW92u+WukJhzBlXKUJ\n",
       "wjHzqRopHV8aN19GNEpyifeEQhHhDg+2IHkueiTymngrZEaXJ49QzV0zPgewMH73o46baEdas2tE\n",
       "ZUWcKZV4aKx2Zz0iXDCjBDCzANeka0d5+XKqzE6cpE2trSgcrqUUHzBg4Li96M+ekC7knqtO976e\n",
       "34hGR1a9ZLUMxl2Ghm+kHVGTjSRojEV4WkqH/ArngKvU1Ae3V4rabh8DYErrklwhxMjRUtrlSEHq\n",
       "ZGr59lOCMeJ/Z4TXfdkvLwebYGuklGW2Zb8sYQAAAX5BmshJqEFomUwIJ//+tSqAFsQonTdcAEva\n",
       "mTpXdR41ALPVpRL3rNdRzM8iCkv7BoflJ4V3F97rrUAqzLXyy9PwmWXVO7UaxP97IG3KNAC49sxh\n",
       "obq4pGGl50R1aSdIpNGSyXui6idUATPgnol2YBKDK29iosw9juuFAPvuJ3O74keRGyslSbg3BzlP\n",
       "FE9Ph7mVwKJEuJAcBH5eNHXjIKBYzNw3cASrlFrGDP9Om4/Fj3knotGN8JZG5GjYM0FsgZLFXesx\n",
       "l/bP+q//5sIIbHsfQUB/z6Znh7jZ+dvIH7yuOlyFitvvZIZRpXKt3zyYEqanOE37XqrBmMAnBdJa\n",
       "PU6b7Ttw5PxDJc+7JmR3Su9iICriH8Kkl78UXlKebpKpWyAaEF3Y5BtwSx5zOhgU+CFMBd10LgAk\n",
       "kNQupnXgKyeomwSXVHr487Dt1tiL3pZhIS3jvlO7xfVrDgeM+8q/i675AiZGMmTXkcaYPMsemPw0\n",
       "JWCGBfewM3OXIRMi8xPQAAACLUGa60nhClJlMCCX//61KoAW751jkDnykU4AS033kNxoj6T7eB7w\n",
       "tz2vvCCLuA5JAObrEm5DQR7Cw+sclwTW1BIzwZPsf8kN9nRVfhzTTn8Aqw4I5B7atV6XEe0kilEF\n",
       "nzPiLcpOFCkc37JmEd4VVwxUDzvZ+IceyUhGhyYms9UTGsn19jghraPln2f7+jBNzH+7qPYSMRa6\n",
       "jC5NXJs2VQIRjWLrGkZ6HDjqJ+LPOudX4rAZYCYDQNb2s6/fyx4FYRGHJ+xM1T68KLwBRg0WlKYo\n",
       "gk2A/Z7NvdN7kD3lbUylL7ohnBqDFDKDdnO5E8heDOf+eRsgwZ0YadRWLGHBL4Syt+YZxDJIhGUZ\n",
       "HmOWJUQi2c4BF1yRGBlfUxFBUeoKduq5LjH4wBmPqzIdu6W/6A4esM0QA/kq18Me/5SNMnfdzGnB\n",
       "PuOOA7Jb2Wsrd4+YBpqdZ+HftSj1oAksn6GwxEYiWtQLpLbWMB9dWnVrcgNn4RBKknOXUzMK6T/k\n",
       "gifgnMRyElpt6YPU0yCgaMBpXXrrc11eLf/dBYnRKanhBo4X7SQjfRPBQUM4aQEIqQB/s8PM6/hS\n",
       "rd6wFTZe1fHi1a7+DTTve5/+C5m6SxqVkcRH5Odi65vn6/UeeHByDH2koinssfAj3xfOPde0xLdU\n",
       "9Lq/FUohZvgBI8Meda+HTkq9yFjbuSH/3mHYGsQzNTCoEgMqYZJFD0Xd8tLakF30XoU4ZV8POlv2\n",
       "YbpTmKLQAAABk0GfCUU0TBD/ABt6HAY8oHuZUnPFgfZdPIgANjwx657/d3N45DlY4HNdDz80m8K8\n",
       "wZhJNZdR9yWMk4VzbVNmMZZxdhmHBGT9rQynEQ+pfnBdeA8Ewv1xEPnHziejfNXLm5FvgJi+fBA8\n",
       "zi+YNvr8TB8HbOj///STEbnM6g57Uk5tBqRZmbe69Q32oY9oZ7GKQr0AtHv/8jtx341T4TwvN/Ej\n",
       "KGsGoSlgqMhKkiq1d//YkTxm1sXsoQ8XTYcVWhY6ve2QToVWxB6kgYWQx9obkqF+kY7WDKVo35Am\n",
       "WVB8bH6FhsETD8O17CJtMvx6TOS4VE4oRMTiI9iccMEUrJpsc/GZ+WqrkA+jMdboL5z+n2V21UDb\n",
       "mEzPCH/ipfTBRTW0BK4EJcHPoUFiJCtDjpkEk9S3dQawnalPM2rwySp0r+1w1dt4wWeoVpYmtunr\n",
       "uqoWSc7dtQY1t5bqk1Gokexbm9ZqfaRjIJSISRZ7dc8MHhNbplZk6PNqQnwjphvjXoPl0EBSWaNZ\n",
       "wBeJhDIZXKMztAlp/IEAAAFGAZ8qakP/ADscxodKACctZcbrUI6Rqb398lIJiasurHqRVc0Q4afy\n",
       "qJkX+tptDTFjj/V/ibG3hMUQ+KGdOe38r3vfRdibbjsCCOdc5c5FTiX6bnp/dm1ejNnOwY1DyRdB\n",
       "cxtKsEX3TyTUDZ9Hx5x3WbNieG6kfnyjYrpxFVhCjCwkURx76xkfti6gR/T408OiTdwsggRGdinz\n",
       "TZk7NjRpsaKAwrsvdh7eaSf+JwEjqJBHWHZZmBluFsJmQvJoy31w47V2yZbTq/LP2yKQqDEcjF8b\n",
       "gAQM4DKOQjIE68IoEtyOYSH17hl6wtuCBNfxWHGrmiaQ2i6lO9jlTvznBzytjXA//R26jkOIspHo\n",
       "asEdzKXMhU/c3A5XDkCo6v93jIeJE08FZys4+NiZxpqm59qzJL4zgtr7KJYHHHAn4oj5jZG2FSFj\n",
       "EIAAAAIOQZstSahBaJlMFPBL//61KoAVj51YqnK36AB+ndx2DUMNgYuD7tzJR03mSLRf4rdMzYad\n",
       "kk8YeYS9g5e2G87Aj0ROn856X+CdUOAi2fytWzx9rtk2Uk2TOnodpUqfIdWfxA1ZjfSGMvJI9Kgy\n",
       "oCdwz4Z2dbU8qC4sjJIUdY6rc7D4n1USlOd7taWEevFSp2qDeHva24GcWhUca3SeYY0AaTgPKaDj\n",
       "EakHqnTqNhVcaK9sZ5oK0JGlNyPuwvZp4wOGkiVZNZgOnjJglFfLLS7nSye7vGc6XbTwXOANFH8H\n",
       "dagPDsw71elYAHJXMP+uxuN3QhiDFsBHlBgIKdI5nEYi9AGGQCmIZCJGgiR++eOjOL1R4OxAeX+v\n",
       "0hSDYEJlfsT85UVWg1JgCgX3L9d9B4/R19bmEOdupxU5xDgEOkG0Pwbfrczy+1x+YpWrZmz7UBsj\n",
       "eSHhBadtBP9hDr9VFoPQQ4S029J3FJf1VV8mDlnPPhb+o7xbIIElhiMIsGg+OvnFPCFHMZ/sFZqI\n",
       "/kI9xycg71MfSHCUCLBhR92CeW27aeGjbJjyiOvu15iI/YQhFxhpLpqb4KmWxaUIthZr63h5GSjm\n",
       "BRiAX1iLG3JSwKNfjrYojuScHmAPIEmoT0skly3JhcuOZa4kHVYXpga/EDMZ5H5rXJRsP1sHTD+1\n",
       "Pso+TzD1eg/2PtPArIMAt4qGFgAAAPEBn0xqQ/8AObZcdXgAml0Ca1J1pQtpSiivcwtW6IeYRXxT\n",
       "whClo9V6PtSwY+A2RoCm8kwgZZ8UNIa+IeHev+k9avL2Mb6FmVgjKZiRqzl36zJT7iUG5Vx6XiHk\n",
       "xIBNkPWSkUj8uVeVROHg79dWBv2wocLVKaE7JnYVB14mvmuWkAH/1Mf9CwvOSshYU9DqjpdbUFJk\n",
       "B7I7Nt5XG1WZdWtkmhudZMcZKkUQnog6RMPU1EJH+qBFJwzqJVdVyrrWDSe4qcDyexJ84E2U5NoF\n",
       "5leLBNSdzZySFrRGAzQT/Me8jnDhXJpyVnuCP+x5veGxKoOBAAABJkGbT0nhClJlMFLBL/61KoAU\n",
       "351CCUYluADZjic7QNetj2Wli8h4lCBFEMEe2gVb4QIviPVb0jWbk1U6nxOBVl/3y39ahX5u2Nb0\n",
       "BVfpzkD7wB8rOjWm5ZN0MLSkV/nP9FMOPUaa3faiDwoZ9ucgbZij0l3/d9id8uj+s9lVC6WcE9TC\n",
       "Zm8rDmfMW/x2vfrXkdyeFW9iAqDhph+hJvlH2lCWrvzYIpe74E6iVvJfwAxrvpTlAtzBljkTJ2hw\n",
       "3A2Dc9UaABu5TOZMNx4yM5bMIolKSEEFABt8r1jgj9Y+sXrTwAYl49b7AMTZQ+1hrfyrowrudFSC\n",
       "5qsnW0NAJGsposBLtZl/k/waHcZ8S90vwbvQf2XWbP3a4Tp2TD+cflU49uEfLqR+rwAAAP8Bn25q\n",
       "Q/8AOFZcdXgAmbWU/wsfiFEwYRwGYMEr7rpZVh26DBrSCLxSXiH1m7xQ9amkKSRUYvEl55N7IToG\n",
       "xf9OAoy/T6gDB9HqIWwBEgsNuGeo1bXR5zzOU37QGgO9g7M/2t7j4ByS454ePJJH03ewNIIFW2NW\n",
       "j0CQ47eY91d6vimiIYVLo13M9dh7r8T7Cfz3+ZFMOm+gXgPxAvbqm8+LF0ZtweHMVknyAeVqIwKK\n",
       "lTPEQuM+f5yMa0rxXzOZNnsMxxjyMCPtoQ/kexlxheUPVzs4oBUOx9UIAXvbg37wnCrCzz5bvlpJ\n",
       "caEkQp2r2KcglJQYsMF9Q04UbhaNp4kAAAEhQZtwSeEOiZTAgl/+tSqAFBzunSUAEO1ff7LBku74\n",
       "Sef/gDzjwSkVR2nDaJyrRcUfslulWUKvNTwUU81LfSzje5KZcqYiYiYL9OUhuQpTVlli2X32Pv/V\n",
       "0czUqmGwdE/NX9i+Zad4HmMM4mv8icmZuyhOPbIOqmiF0EH5Fq+VRgtwZVzbDcDMIf14IIs5sbww\n",
       "VKlaHbP8p3qe4dLOoJWGOUYsrPivFpSq5ajAvnq8otFKRbiabnxEjP8mtwxwvTgqohjQ1A0wgYiN\n",
       "G0c+QcJ31lLjgi03QsdXDFlH3MU0sp0TsRuoR7tmgImLgHOI7GEgYkFMmLNSA2zvLz7R4ErRCHQL\n",
       "JhU6JSKlS92ILMWOcQVvrtqp47VtN0CpWLnHnRzGgAAAATVBm5NJ4Q8mUwIf//6plgCc/WQCmpeC\n",
       "1GwAnW1U37KiWKxLoRDJKEvnnpf39vVmBV6pDdeYYmW/5nEn0vNZW/PrDAVlSZ2Pt+6fN80eEcWE\n",
       "x0G4OQgxuwHcflqVAOHOHrnXUQkv/BjLi5XDrJ9hg3NXh9z2RCBOma+yz5E046wcLlWiepbutBBc\n",
       "yhFw6HWliLWwHm+es9IDlv3kqSqzpwxW9V2RZNE3Z1up1S3OPAepAm51XMvKlTBUsJNWs9Fhlhd4\n",
       "+MCRJnvQceaHwjUHUdkRqhnf4hwoHmQExgHepJBcN/bO0ltXITJNPxGfNABkDSXuP6mO0Bzk8cN2\n",
       "xjPzKSik5O2WsrIK/psiw5PWIl73F2xaa9Vzv/pvMWLF9KFiAXY7lHZNs9I+/tQlVNoc1HKk/JIN\n",
       "ydAAAAFRQZ+xRRE8EP8AGPod2Js2UABOW3rG1oOVulyFFc0yCJNt05SJzIwe/qCoS7tPq4b0zgn3\n",
       "EFCZ7IK2+bRl4i4YrAfkN4Tt5sA073huUkszfPlSoWxAIx4oryBTCTWoHlaBg0bRrj9zWBZczIfE\n",
       "7xdcEdby1CuAZbqCGou55wXkfipHdv85Uxk3s+iItEn1kSXFX8n3A49Xrl4ipsaVRufmDGOjLlzJ\n",
       "w6lxdo+18nqLIIPv8Oq8/70cmllX0yyXhMVfXR9IGkRBRSJHKNl87lpAq6kXG53HRKSDfiCkjog4\n",
       "y7oTZlWh16Yryz4MbLp6hJ7UF0/eGJyIGn/W6doNEWQx5OyirsWlp94DIZ0vyS+e+DRx38M5LUKh\n",
       "sKZssj10VY3Ia5dxQzdSjTG2Ty3LNLv5NRhn7eXXKcH3XDrVN/aKO06yjfenwNe8L9EJui5agLJ5\n",
       "JwAAATsBn9JqQ/8ANTE/VK+gA/YDc+LfvbNbdYCHe/1ESRhioMC9F/+mOxHQJoim+rB1SDMHFPzz\n",
       "B9uVudXtdC1ioMrKlRSW4JaAghk1dbX1x54kZPAKz8TrA0/7PCihSyEGOkpriFiCb71tqZ7BYvLW\n",
       "Gl6kfZa0HpVvLTBRtnMisqaBkGZ11F4F2vu9vXlUcHUlvmrPwXvwBakhKnFckmQhHfPNmj1pmYWy\n",
       "PUDlYYxPpnHB8MWKdFYzTVQWf6zU63Xo6wWE8ekZgOM2fPNO+2iNJWtQtLT6fGP9wYhf18ynvZo6\n",
       "6bdTHcOB7/dBzlh5uyOPNvZToxqMU+7165ySu/P/7S0fi33Rpy4OGJsuI8eaATJQzPKvZAjDM6+I\n",
       "EB4PtlmfMlewxnJoLDrOIcjUZAzlsqnAcGGuoP5fjpUVdqAAAAP+bW9vdgAAAGxtdmhkAAAAAAAA\n",
       "AAAAAAAAAAAD6AAAD6AAAQAAAQAAAAAAAAAAAAAAAAEAAAAAAAAAAAAAAAAAAAABAAAAAAAAAAAA\n",
       "AAAAAABAAAAAAAAAAAAAAAAAAAAAAAAAAAAAAAAAAAAAAAAAAgAAAyh0cmFrAAAAXHRraGQAAAAD\n",
       "AAAAAAAAAAAAAAABAAAAAAAAD6AAAAAAAAAAAAAAAAAAAAAAAAEAAAAAAAAAAAAAAAAAAAABAAAA\n",
       "AAAAAAAAAAAAAABAAAAAAbAAAAEgAAAAAAAkZWR0cwAAABxlbHN0AAAAAAAAAAEAAA+gAAAQAAAB\n",
       "AAAAAAKgbWRpYQAAACBtZGhkAAAAAAAAAAAAAAAAAAAoAAAAoABVxAAAAAAALWhkbHIAAAAAAAAA\n",
       "AHZpZGUAAAAAAAAAAAAAAABWaWRlb0hhbmRsZXIAAAACS21pbmYAAAAUdm1oZAAAAAEAAAAAAAAA\n",
       "AAAAACRkaW5mAAAAHGRyZWYAAAAAAAAAAQAAAAx1cmwgAAAAAQAAAgtzdGJsAAAAs3N0c2QAAAAA\n",
       "AAAAAQAAAKNhdmMxAAAAAAAAAAEAAAAAAAAAAAAAAAAAAAAAAbABIABIAAAASAAAAAAAAAABAAAA\n",
       "AAAAAAAAAAAAAAAAAAAAAAAAAAAAAAAAAAAAAAAAGP//AAAAMWF2Y0MBZAAV/+EAGGdkABWs2UGw\n",
       "loQAAAMABAAAAwAoPFi2WAEABmjr48siwAAAABx1dWlka2hA8l8kT8W6OaUbzwMj8wAAAAAAAAAY\n",
       "c3R0cwAAAAAAAAABAAAAFAAACAAAAAAUc3RzcwAAAAAAAAABAAAAAQAAAJBjdHRzAAAAAAAAABAA\n",
       "AAABAAAQAAAAAAEAACAAAAAAAgAACAAAAAABAAAQAAAAAAEAACAAAAAAAgAACAAAAAABAAAQAAAA\n",
       "AAEAACAAAAAAAgAACAAAAAABAAAYAAAAAAEAAAgAAAAAAQAAGAAAAAABAAAIAAAAAAEAABAAAAAA\n",
       "AQAAIAAAAAACAAAIAAAAABxzdHNjAAAAAAAAAAEAAAABAAAAFAAAAAEAAABkc3RzegAAAAAAAAAA\n",
       "AAAAFAAAEowAAANnAAABzwAAAXUAAAHNAAABiwAAAacAAAFYAAABggAAAjEAAAGXAAABSgAAAhIA\n",
       "AAD1AAABKgAAAQMAAAElAAABOQAAAVUAAAE/AAAAFHN0Y28AAAAAAAAAAQAAACwAAABidWR0YQAA\n",
       "AFptZXRhAAAAAAAAACFoZGxyAAAAAAAAAABtZGlyYXBwbAAAAAAAAAAAAAAAAC1pbHN0AAAAJal0\n",
       "b28AAAAdZGF0YQAAAAEAAAAATGF2ZjU3LjgzLjEwMA==\n",
       "\">\n",
       "  Your browser does not support the video tag.\n",
       "</video>"
      ],
      "text/plain": [
       "<IPython.core.display.HTML object>"
      ]
     },
     "execution_count": 2,
     "metadata": {},
     "output_type": "execute_result"
    }
   ],
   "source": [
    "def convection(n, u, u_old):\n",
    "    u_old = u.copy()\n",
    "    for i in range(1, nx):\n",
    "        u[i] = u_old[i] - u_old[i] * dt / dx * (u_old[i] - u_old[i-1])\n",
    "        line.set_data(x, u)\n",
    "\n",
    "u_old = u\n",
    "anim = animation.FuncAnimation(fig, convection, fargs=(u,u_old), frames=nt)\n",
    "HTML(anim.to_html5_video())"
   ]
  },
  {
   "cell_type": "markdown",
   "metadata": {},
   "source": [
    "What do you observe about the evolution of the hat function under the nonlinear convection equation? What happens when you change the numerical parameters and run again?"
   ]
  },
  {
   "cell_type": "markdown",
   "metadata": {},
   "source": [
    "## Learn More"
   ]
  },
  {
   "cell_type": "markdown",
   "metadata": {},
   "source": [
    "For a careful walk-through of the discretization of the convection equation with finite differences (and all steps from 1 to 4), watch **Video Lesson 4** by Prof. Barba on YouTube."
   ]
  },
  {
   "cell_type": "code",
   "execution_count": 3,
   "metadata": {
    "jupyter": {
     "outputs_hidden": false
    }
   },
   "outputs": [
    {
     "data": {
      "image/jpeg": "[encoded data removed]",
      "text/html": [
       "\n",
       "        <iframe\n",
       "            width=\"400\"\n",
       "            height=\"300\"\n",
       "            src=\"https://www.youtube.com/embed/y2WaK7_iMRI\"\n",
       "            frameborder=\"0\"\n",
       "            allowfullscreen\n",
       "        ></iframe>\n",
       "        "
      ],
      "text/plain": [
       "<IPython.lib.display.YouTubeVideo at 0x7ff1d471f550>"
      ]
     },
     "execution_count": 3,
     "metadata": {},
     "output_type": "execute_result"
    }
   ],
   "source": [
    "from IPython.display import YouTubeVideo\n",
    "YouTubeVideo('y2WaK7_iMRI')"
   ]
  },
  {
   "cell_type": "code",
   "execution_count": 4,
   "metadata": {
    "jupyter": {
     "outputs_hidden": false
    }
   },
   "outputs": [
    {
     "data": {
      "text/html": [
       "<link href='http://fonts.googleapis.com/css?family=Fenix' rel='stylesheet' type='text/css'>\n",
       "<link href='http://fonts.googleapis.com/css?family=Alegreya+Sans:100,300,400,500,700,800,900,100italic,300italic,400italic,500italic,700italic,800italic,900italic' rel='stylesheet' type='text/css'>\n",
       "<link href='http://fonts.googleapis.com/css?family=Source+Code+Pro:300,400' rel='stylesheet' type='text/css'>\n",
       "<style>\n",
       "    @font-face {\n",
       "        font-family: \"Computer Modern\";\n",
       "        src: url('http://mirrors.ctan.org/fonts/cm-unicode/fonts/otf/cmunss.otf');\n",
       "    }\n",
       "    div.cell{\n",
       "        width:800px;\n",
       "        margin-left:16% !important;\n",
       "        margin-right:auto;\n",
       "    }\n",
       "    h1 {\n",
       "        font-family: 'Alegreya Sans', sans-serif;\n",
       "    }\n",
       "    h2 {\n",
       "        font-family: 'Fenix', serif;\n",
       "    }\n",
       "    h3{\n",
       "\t\tfont-family: 'Fenix', serif;\n",
       "        margin-top:12px;\n",
       "        margin-bottom: 3px;\n",
       "       }\n",
       "\th4{\n",
       "\t\tfont-family: 'Fenix', serif;\n",
       "       }\n",
       "    h5 {\n",
       "        font-family: 'Alegreya Sans', sans-serif;\n",
       "    }\t   \n",
       "    div.text_cell_render{\n",
       "        font-family: 'Alegreya Sans',Computer Modern, \"Helvetica Neue\", Arial, Helvetica, Geneva, sans-serif;\n",
       "        line-height: 135%;\n",
       "        font-size: 120%;\n",
       "        width:600px;\n",
       "        margin-left:auto;\n",
       "        margin-right:auto;\n",
       "    }\n",
       "    .CodeMirror{\n",
       "            font-family: \"Source Code Pro\";\n",
       "\t\t\tfont-size: 90%;\n",
       "    }\n",
       "/*    .prompt{\n",
       "        display: None;\n",
       "    }*/\n",
       "    .text_cell_render h1 {\n",
       "        font-weight: 200;\n",
       "        font-size: 50pt;\n",
       "\t\tline-height: 100%;\n",
       "        color:#CD2305;\n",
       "        margin-bottom: 0.5em;\n",
       "        margin-top: 0.5em;\n",
       "        display: block;\n",
       "    }\t\n",
       "    .text_cell_render h5 {\n",
       "        font-weight: 300;\n",
       "        font-size: 16pt;\n",
       "        color: #CD2305;\n",
       "        font-style: italic;\n",
       "        margin-bottom: .5em;\n",
       "        margin-top: 0.5em;\n",
       "        display: block;\n",
       "    }\n",
       "    \n",
       "    .warning{\n",
       "        color: rgb( 240, 20, 20 )\n",
       "        }  \n",
       "</style>\n",
       "<script>\n",
       "    MathJax.Hub.Config({\n",
       "                        TeX: {\n",
       "                           extensions: [\"AMSmath.js\"]\n",
       "                           },\n",
       "                tex2jax: {\n",
       "                    inlineMath: [ ['$','$'], [\"\\\\(\",\"\\\\)\"] ],\n",
       "                    displayMath: [ ['$$','$$'], [\"\\\\[\",\"\\\\]\"] ]\n",
       "                },\n",
       "                displayAlign: 'center', // Change this to 'center' to center equations.\n",
       "                \"HTML-CSS\": {\n",
       "                    styles: {'.MathJax_Display': {\"margin\": 4}}\n",
       "                }\n",
       "        });\n",
       "</script>\n"
      ],
      "text/plain": [
       "<IPython.core.display.HTML object>"
      ]
     },
     "execution_count": 4,
     "metadata": {},
     "output_type": "execute_result"
    }
   ],
   "source": [
    "from IPython.core.display import HTML\n",
    "def css_styling():\n",
    "    styles = open(\"custom.css\", \"r\").read()\n",
    "    return HTML(styles)\n",
    "css_styling()"
   ]
  },
  {
   "cell_type": "markdown",
   "metadata": {},
   "source": [
    "> (The cell above executes the style for this notebook.)"
   ]
  }
 ],
 "metadata": {
  "kernelspec": {
   "display_name": "Python 3",
   "language": "python",
   "name": "python3"
  },
  "language_info": {
   "codemirror_mode": {
    "name": "ipython",
    "version": 3
   },
   "file_extension": ".py",
   "mimetype": "text/x-python",
   "name": "python",
   "nbconvert_exporter": "python",
   "pygments_lexer": "ipython3",
   "version": "3.7.3"
  }
 },
 "nbformat": 4,
 "nbformat_minor": 4
}
