{
 "cells": [
  {
   "cell_type": "raw",
   "metadata": {},
   "source": [
    "Text provided under a Creative Commons Attribution license, CC-BY.  All code is made available under the FSF-approved BSD-3 license.  (c) Lorena A. Barba, Gilbert F. Forsyth 2017. Thanks to NSF for support via CAREER award #1149784."
   ]
  },
  {
   "cell_type": "markdown",
   "metadata": {},
   "source": [
    "[@LorenaABarba](https://twitter.com/LorenaABarba)"
   ]
  },
  {
   "cell_type": "markdown",
   "metadata": {},
   "source": [
    "12 steps to Navier–Stokes\n",
    "======\n",
    "***"
   ]
  },
  {
   "cell_type": "markdown",
   "metadata": {},
   "source": [
    "Hello! Welcome to the [**12 steps to Navier–Stokes**](https://github.com/barbagroup/CFDPython). This is a practical module that is used in the beginning of an interactive Computational Fluid Dynamics (CFD) course taught by [Prof. Lorena Barba](http://lorenabarba.com) since Spring 2009 at Boston University. The course assumes only basic programming knowledge (in any language) and of course some foundation in partial differential equations and fluid mechanics. The practical module was inspired by the ideas of Dr. Rio Yokota, who was a post-doc in Barba's lab, and has been refined by Prof. Barba and her students over several semesters teaching the course. The course is taught entirely using Python and students who don't know Python just learn as we work through the module.\n",
    "\n",
    "This [Jupyter notebook](https://jupyter-notebook.readthedocs.io/en/stable/) will lead you through the first step of programming your own Navier–Stokes solver in Python from the ground up.  We're going to dive right in.  Don't worry if you don't understand everything that's happening at first, we'll cover it in detail as we move forward and you can support your learning with the videos of [Prof. Barba's lectures on YouTube](http://www.youtube.com/playlist?list=PL30F4C5ABCE62CB61).\n",
    "\n",
    "For best results, after you follow this notebook, prepare your own code for Step 1, either as a Python script or in a clean Jupyter notebook.\n",
    "\n",
    "To execute this Notebook, we assume you have invoked the notebook server using: `jupyter notebook`."
   ]
  },
  {
   "cell_type": "markdown",
   "metadata": {},
   "source": [
    "Step 1: 1-D Linear Convection\n",
    "-----\n",
    "***"
   ]
  },
  {
   "cell_type": "markdown",
   "metadata": {},
   "source": [
    "The 1-D Linear Convection equation is the simplest, most basic model that can be used to learn something about CFD. It is surprising that this little equation can teach us so much! Here it is:\n",
    "\n",
    "$$\\frac{\\partial u}{\\partial t} + c \\frac{\\partial u}{\\partial x} = 0$$\n",
    "\n",
    "With given initial conditions (understood as a *wave*), the equation represents the propagation of that initial *wave* with speed $c$, without change of shape. Let the initial condition be $u(x,0)=u_0(x)$. Then the exact solution of the equation is $u(x,t)=u_0(x-ct)$.\n",
    "\n",
    "We discretize this equation in both space and time, using the Forward Difference scheme for the time derivative and the Backward Difference scheme for the space derivative. Consider discretizing the spatial coordinate $x$ into points that we index from $i=0$ to $N$, and stepping in discrete time intervals of size $\\Delta t$.\n",
    "\n",
    "From the definition of a derivative (and simply removing the limit), we know that:\n",
    "\n",
    "$$\\frac{\\partial u}{\\partial x}\\approx \\frac{u(x+\\Delta x)-u(x)}{\\Delta x}$$\n",
    "\n",
    "Our discrete equation, then, is:\n",
    "\n",
    "$$\\frac{u_i^{n+1}-u_i^n}{\\Delta t} + c \\frac{u_i^n - u_{i-1}^n}{\\Delta x} = 0 $$\n",
    "\n",
    "Where $n$ and $n+1$ are two consecutive steps in time, while $i-1$ and $i$ are two neighboring points of the discretized $x$ coordinate. If there are given initial conditions, then the only unknown in this discretization is $u_i^{n+1}$.  We can solve for our unknown to get an equation that allows us to advance in time, as follows:\n",
    "\n",
    "$$u_i^{n+1} = u_i^n - c \\frac{\\Delta t}{\\Delta x}(u_i^n-u_{i-1}^n)$$\n",
    "\n",
    "Now let's try implementing this in Python.  \n",
    "\n",
    "We'll start by importing a few libraries to help us out.\n",
    "\n",
    "* `numpy` is a library that provides a bunch of useful matrix operations akin to MATLAB\n",
    "* `matplotlib` is a 2D plotting library that we will use to plot our results\n",
    "* `time` and `sys` provide basic timing functions that we'll use to slow down animations for viewing"
   ]
  },
  {
   "cell_type": "code",
   "execution_count": 1,
   "metadata": {
    "jupyter": {
     "outputs_hidden": false
    }
   },
   "outputs": [],
   "source": [
    "# Remember: comments in python are denoted by the pound sign\n",
    "import numpy\n",
    "from matplotlib import pyplot\n",
    "from matplotlib import animation, rc\n",
    "from IPython.display import HTML"
   ]
  },
  {
   "cell_type": "code",
   "execution_count": 2,
   "metadata": {
    "jupyter": {
     "outputs_hidden": false
    }
   },
   "outputs": [],
   "source": [
    "#this makes matplotlib plots appear in the notebook (instead of a separate window)\n",
    "%matplotlib inline                  "
   ]
  },
  {
   "cell_type": "markdown",
   "metadata": {},
   "source": [
    "Now let's define a few variables; we want to define an evenly spaced grid of points within a spatial domain that is 2 units of length wide, i.e., $x_i\\in(0,2)$.  We'll define a variable `nx`, which will be the number of grid points we want and `dx` will be the distance between any pair of adjacent grid points.  "
   ]
  },
  {
   "cell_type": "code",
   "execution_count": 3,
   "metadata": {
    "jupyter": {
     "outputs_hidden": false
    }
   },
   "outputs": [],
   "source": [
    "nx = 41  # try changing this number from 41 to 81 and Run All ... what happens?\n",
    "dx = 2 / (nx-1)\n",
    "nt = 25    #number of timesteps we want to calculate\n",
    "dt = .025  #amount of time each timestep covers (delta t)\n",
    "c = 1      #assume wavespeed of c = 1"
   ]
  },
  {
   "cell_type": "markdown",
   "metadata": {},
   "source": [
    "We also need to set up our initial conditions. The initial velocity $u_0$ is given as \n",
    "$u = 2$ in the interval $0.5 \\leq x \\leq 1$  and $u = 1$ everywhere else in $(0,2)$ (i.e., a hat function).\n",
    "\n",
    "Here, we use the function `ones()` defining a `numpy` array which is `nx` elements long with every value equal to 1."
   ]
  },
  {
   "cell_type": "code",
   "execution_count": 4,
   "metadata": {},
   "outputs": [
    {
     "data": {
      "image/png": "[encoded data removed]",
      "text/plain": [
       "<Figure size 432x288 with 1 Axes>"
      ]
     },
     "metadata": {
      "needs_background": "light"
     },
     "output_type": "display_data"
    }
   ],
   "source": [
    "x = numpy.linspace(0, 2, nx)\n",
    "u = numpy.ones(nx)\n",
    "u[int(.5 / dx):int(1 / dx + 1)] = 2  #setting u = 2 between 0.5 and 1 as per our I.C.s\n",
    "fig, ax = pyplot.subplots()\n",
    "line, = ax.plot(x, u)"
   ]
  },
  {
   "cell_type": "markdown",
   "metadata": {},
   "source": [
    "Now let's take a look at those initial conditions using a Matplotlib plot.  We've imported the `matplotlib` plotting library `pyplot` and the plotting function is called `plot`, so we'll call `pyplot.plot`. To learn about the myriad possibilities of Matplotlib, explore the [Gallery](http://matplotlib.org/gallery.html) of example plots.\n",
    "\n",
    "Here, we use the syntax for a simple 2D plot: `plot(x,y)`, where the `x` values are evenly distributed grid points:"
   ]
  },
  {
   "cell_type": "markdown",
   "metadata": {},
   "source": [
    "Why doesn't the hat function have perfectly straight sides? Think for a bit."
   ]
  },
  {
   "cell_type": "markdown",
   "metadata": {},
   "source": [
    "Now it's time to implement the discretization of the convection equation using a finite-difference scheme.  \n",
    "\n",
    "For every element of our array `u`, we need to perform the operation $u_i^{n+1} = u_i^n - c \\frac{\\Delta t}{\\Delta x}(u_i^n-u_{i-1}^n)$\n",
    "\n",
    "We'll store the result in a new (temporary) array `un`, which will be the solution $u$ for the next time-step.  We will repeat this operation for as many time-steps as we specify and then we can see how far the wave has convected.  \n",
    "\n",
    "We first initialize our placeholder array `un` to hold the values we calculate for the $n+1$ timestep, using once again the NumPy function `ones()`.\n",
    "\n",
    "Then, we may think we have two iterative operations: one in space and one in time (we'll learn differently later), so we'll start by nesting one loop inside the other. Note the use of the nifty `range()` function. When we write: `for i in range(1,nx)` we will iterate through the `u` array, but we'll be skipping the first element (the zero-th element).  *Why?*"
   ]
  },
  {
   "cell_type": "code",
   "execution_count": 5,
   "metadata": {},
   "outputs": [
    {
     "data": {
      "text/html": [
       "<video width=\"432\" height=\"288\" controls autoplay loop>\n",
       "  <source type=\"video/mp4\" src=\"data:video/mp4;base64,AAAAHGZ0eXBNNFYgAAACAGlzb21pc28yYXZjMQAAAAhmcmVlAABH5m1kYXQAAAKtBgX//6ncRem9\n",
       "5tlIt5Ys2CDZI+7veDI2NCAtIGNvcmUgMTUyIHIyODU0IGU5YTU5MDMgLSBILjI2NC9NUEVHLTQg\n",
       "QVZDIGNvZGVjIC0gQ29weWxlZnQgMjAwMy0yMDE3IC0gaHR0cDovL3d3dy52aWRlb2xhbi5vcmcv\n",
       "eDI2NC5odG1sIC0gb3B0aW9uczogY2FiYWM9MSByZWY9MyBkZWJsb2NrPTE6MDowIGFuYWx5c2U9\n",
       "MHgzOjB4MTEzIG1lPWhleCBzdWJtZT03IHBzeT0xIHBzeV9yZD0xLjAwOjAuMDAgbWl4ZWRfcmVm\n",
       "PTEgbWVfcmFuZ2U9MTYgY2hyb21hX21lPTEgdHJlbGxpcz0xIDh4OGRjdD0xIGNxbT0wIGRlYWR6\n",
       "b25lPTIxLDExIGZhc3RfcHNraXA9MSBjaHJvbWFfcXBfb2Zmc2V0PS0yIHRocmVhZHM9NiBsb29r\n",
       "YWhlYWRfdGhyZWFkcz0xIHNsaWNlZF90aHJlYWRzPTAgbnI9MCBkZWNpbWF0ZT0xIGludGVybGFj\n",
       "ZWQ9MCBibHVyYXlfY29tcGF0PTAgY29uc3RyYWluZWRfaW50cmE9MCBiZnJhbWVzPTMgYl9weXJh\n",
       "bWlkPTIgYl9hZGFwdD0xIGJfYmlhcz0wIGRpcmVjdD0xIHdlaWdodGI9MSBvcGVuX2dvcD0wIHdl\n",
       "aWdodHA9MiBrZXlpbnQ9MjUwIGtleWludF9taW49NSBzY2VuZWN1dD00MCBpbnRyYV9yZWZyZXNo\n",
       "PTAgcmNfbG9va2FoZWFkPTQwIHJjPWNyZiBtYnRyZWU9MSBjcmY9MjMuMCBxY29tcD0wLjYwIHFw\n",
       "bWluPTAgcXBtYXg9NjkgcXBzdGVwPTQgaXBfcmF0aW89MS40MCBhcT0xOjEuMDAAgAAAEVtliIQA\n",
       "E//+97GPgU3IAA2XOop6H+EVsfSQUXqx2aBk6gAAAwAAiYGOFkC1uVpxUAAA48P/R/gAMsBhlM1h\n",
       "6DB/iJouV67AVjwK+94zawRLOCcYKqQ2XRnafEMJ/vkCqsJ9o4Qd7rUqlk25J6A7HohM9+M3BOOT\n",
       "BnwKSJdxxyL+1PXdoyTO6Q1UsbcK8UPdKZJP+EpHuVyKARFatVsEtcjuGc0UEdIS9i/rTSLp4fS+\n",
       "3/rk1s8/ypSo0xEQnfrfCT2Np9BCF7aih0jyU0AeiCy3SYQgkmp3ep3rQtOiA3xPW/Hvy1VGZ96b\n",
       "dEH5zAtV07k1ZNI/8LLPyVWJ9KPVEO9YqLmfe3tjGGAOqFDRIwzy8VB1oHxKe+RAaRH/VPe9+sNW\n",
       "23jzVrRIYPWBwjOLx/+T53BQ1CQhvIj8CSbU5w5Lh58ch8b7x+sn/bKJhjbivRqF+BFvoxHFdaNy\n",
       "HA5RziVvzEiGvYDjMYVqtdR0IH7WhycKFQHSEtgyYvkmE5Iv1f2BM/l2LtZXDwBTXFj/0PJLppmT\n",
       "b2z6dDd/jjLyVPxyKb5MFvQYgfezzJO9h3Cfe2qMRi30a2A1qBtn48XTsKpW8iXWdPKuAa5m5Ijz\n",
       "VE/sKEi0es/JM4RNb3CrRm4pXBV/C6F0wC7X8ZWYkLv3gqkyucR/ETqzZpev/c8T910O8pjjEByR\n",
       "bQVEQ205L0gSKyZZX2dzrfUT8NyNQC91yB7u8jXv+Hg6uTzN4PeWcWmCn5veqKxdxGC5Ennlv5Sb\n",
       "ml9RgfFinBPCHT6KKxYRMVcVpcLwYPCP7GYsMvvi+SGKgZlldDmF01ZbZeGIpMkpbeZNH1V9HOdN\n",
       "lU3ftNP/3isVn7LK/OzKmMKm9Y1Tfd8MOLLUZfBHUH/gJFCdm5EBT85J6SBMUzOIAM4ISHdzzP2g\n",
       "MPvhZqcOFByDTlHasIp0es2pHx9430U5SeuJdTtdrkRnR1YBf3BncKujfH9+q8sMA1IEpEXSE1Ax\n",
       "WUrvZi0j6wWobpBSx1jbq9iN4l6QE48IipDgRdOe/MXSUbHztxObmFHi/dGH2ipvtWvSLGg09m63\n",
       "EtglsX6+/pKhPNUn8LRK82B/akHZqmjR42cXXxFiY1DlXfBlAp/RBCGW0heAIyRynGGO8J8Hk4Zg\n",
       "88yKQCdqYGUsGpFLQSJKkRaFhOvasCMJH9bVpwF1aF9cmY2NvEvnuM43fLF6zCXgW+cq/ra8uY0b\n",
       "4O1oF3G/Hvdzlg1orXbwe38o+FeQ0uNln5aygwpEOgQFKSisGsiHLalsYh06ZD2n3ULSENVyAcep\n",
       "4X2350+1yLRroJgcIPjl4g5ae/sbbWhwwAbOgoK+0367DJ7poNboen4JmYMNxbmi+yT+0TmTAL5q\n",
       "6iff6CF7Xv5k+xLrMFtNRc1wVA+jWy+Z7cyPMv7sgjS6/3Z9sjDdXUPhOquOcS+gmDYVmlw7tJRa\n",
       "65JjIL7KJ8vGdqpq5lcFgQE/vFpJZ1q9Vv9SHdoE4ERGvjQrlUYTMxS0lGLbb9fOygL+nMuSaCVX\n",
       "wDieRHjK0V6lDeHcU8pEPxncyx1RIIwMrxI1r6J+bh/ClaNwixSC1ia8ate9iTwDYlifh/ULZNUI\n",
       "EVc+ALskc0s8+p7/b+QxURUQHAAEeJscZuJOlwHWzY6DWINKXE8d4lQpiZSQAxyNRaIupwaDM4a4\n",
       "xZBGnMGv1LqgQB0CM2audaRTPPvUJLPNte6Ozo4pAFNNainWPQ9Wat3UirKtRs/J8XzfOOEM6vb9\n",
       "+aAEnuzE2M+TFtbV5BaroUFsucFuDHImxJ+2/5Yv9F3aMJ/ClVXH0UpBCWekjOjA7dmniZAm9Pd9\n",
       "TA5x+u2qG1HBXYQ+q6nWMpKxs8sPtiVwhzIJiNR3zJTA7uAm7Fru6q+NtoF136ZNrNLfBc9PdjZF\n",
       "/EMsI2kZy6rv2Yhq7q/RhKNPK0Kaf/JBxhGv/ONCY8P8OIbRk455ppYqgep6V6PoiNeY0VhzIs3v\n",
       "C7rqQNcIVd+Og85w6wuSt54o/9vEgZa6ZRO6sO3HzCxklnvYiZeuizGxahq0/x4oYByG0VE7/heF\n",
       "ZpR0eJkHGfjKyC8q1H7Fy6cxO1cLK66E1YTiS2f2RzHCRWcvwKUJG5B5jaFSy2kGkVD+IQxJL3nh\n",
       "viReIwt8dQ5gjuGojoA48nAnWNm5XFXC4iet5Ef027+E4q9Ltf/J608GFxIUze+NSmy342ASmo6L\n",
       "9ziFby290Qi7Jqy+uZ1Wpey+LR6XzHauRdg9RdCmd2wFqMZE/bil9v9iEEp5sON2JGcXOcU0aWiM\n",
       "WMy0zYGui2doXJU3OeccbKHLbK3gco9xQeyhxIv3wALB48oO5OvudKtwZM4E0iCgCfYiGCBr9hT/\n",
       "8hj5CcKY0kpAxHJzWkqmMt7HaF2IztTvW43nfH8vKFEwOSC4oJ/9/QFMVG2BJznoB4ie+d6jTFa+\n",
       "U33VkxOIdty15TKyuzuh1cMhlhC82DWiHjVi4VG470EZeWc3Tl2QcDcJQ/ndGdA1UeuuepmziTUd\n",
       "Qpx1gW/f+8XIe9EFKo+FrlEm4SJVQk0s7s1LpZ9z6CjPQI/1vWZpsVwRVupvsqL7/tRNMRjDxALQ\n",
       "tldoiIahxcVT1/aZelR0cJdIwXxMenAdu2KKB1rvdz7NwFOvtOiKH+7WWsEOFHu4dqSpXdOY/th7\n",
       "wDIyMSiiSzxBqP+NK93qWDbbmC6fprQPs3EqfS3g/kCDtlEwmfeSKhC2OGDQfv9Wa7m6kFlbHbnD\n",
       "Pg51zWjyVnKNqCmuUyWxeNb5+4wdEWxEFzrGeL0VrYtyml4Xvjrm/t27p1iNNK3ZXwziAqO2x1zL\n",
       "F137NK/cbg9ijjlDmMOTwAXXOQ+heKDAbZ6k9Pktsl05VvO9TpqnxYJsUcVaCcrMSqVuSAoCzDqU\n",
       "fkJhkVWGvdsaeDJuMjepz3bSPsaJGoHiJES+3FN/YkF8yBDOh/yi/J0rBpSDX0eobdcbDZv5HU0m\n",
       "RRiRGGddivfESeVc63/0S+z5RCQa4ZRkBJIKN0tWgLwVhkNSLKdkYpa/7pbk+C7D+n46OTOR+GR+\n",
       "WoDp05Y5NK/k9jzH2cVpZKqax9iMPcyMxkREpDExsM8DZ6G/TwAunya4n+KF/ybyO0xW1stF080J\n",
       "xcV4H1gbSjjBjx3oJQAisGqjR/l//QSU8cGfvLZ6K1ctWeaXvxDAg/xEO26+SiIsIEs7fiylP5aY\n",
       "0yB8cPuUL4RYaNZIigkuiJ02Rp6XEttAorv7Ysk1b35WfPNIM2h/mcNR3CNlsnQebmKp2MMndSYE\n",
       "z3gYid8F07KwStTtZZv8lq+1h5/S6zkCJICtNF3OcR/jNN7e8ELLmiND2jv611w5gf5/K2VR/2D3\n",
       "hknJ7+B/7+0pROhB90f1UkSdHn3NCotxqETGRS2wgiNqoQ14zgnagqC+izlE+bRYNhnW3r9hZXSX\n",
       "3bsIzizEcQKqSfujQs5hHVqAqLChbtSzVAYShO/YxBcD5gD9aJmlEL5CiJP5aZZAN6JnwJrRZIlB\n",
       "SRRuC9u14y114oUMjoowXW2TGJMUHNoNt+hopx/ShZwltYrWbxAWBvSVjlWyj7GXaitEig+YNaWN\n",
       "iID6sZKQrTVduUCt1++TmMikJiq/ZJqyQ5/KsTacRyaQi0EFzHBHJ5rhEPZrJQobxv6mcTSHvJVj\n",
       "IUtRVlbR9EFy+Q2NGVqc7wuW++25psJ/+9lnyk+8Rg8dS6o6AvZrz0oyG7r5JvLG0BYNDzjI/Wtb\n",
       "o0VrincGHleuHiRh76sLB7LLRzYWQh+IiWycsh1dTY3xNRWFQ7jr38y//g0JcxHMLFjyOFJdeo/d\n",
       "yaBDPt88lvh40yo4YX1e8zTvcMImpBz0NIgV18xKwTiCTk/PIHR/Mj81P67awrcMGd6J6BXFqwGk\n",
       "Wj6kXpb16cOWwXLJBLhjWAEWDTd1lGTKnWNqO6N3FNiedkTCEDu1SzHnmDRvxx5xtLhzUKDweL0X\n",
       "1uDacBQYmRB4xobfC+NWNjoxnIhCMo/0tEDgnLEnODdzkiUcJEv1Rf3wBFBL84/Eiqf3gU7MdQ98\n",
       "CLzCwxAqPIRgCoOgp7S4fMPpzz8Th2TPzTlnx6+9vcFVc/r4wUjeQDQPqngprzq/JztTAXv8aZhN\n",
       "mrnAAV1Gpu+zFm36M3PrEWhIWzxo0b5in74uZS9TcuKm6CL0+uKCPOd/0P1GigBqSd8HLeTyoWxI\n",
       "bihasm6JGgCY6qL6jxTF0mzjjJ4MbMTalATNFFBzzht4d+sBG2/VgRdD1ph35yynj5qK04L8jUrg\n",
       "AHSBaUjEkuz3QjnszN6EVvdaEejYRIRBMSLHYgVJ18eWV6q4iW9bRfXCF7zGXNcY8k3n8sNG/5Hr\n",
       "FVt1d3KV0yNtLaCggwTydxr/61VskozdAjugHdMsnpcL5af8us2kVEwE/nZV9PfAS7hRHQZMe7Hd\n",
       "NtQYI4zzXGApjdwPXD2EVsLRjD6VUG8Q1q8HcNXy29fUVFZS2yAQ0ft7FuHqBlh8nvJqkvIqKZyV\n",
       "Z9IS0X0GzC86x9DTNeRt1FrvQyALAxkP2IA1rElYgXtdobLxGGzTLZgj48dheNO3WCIRpfVxgIR5\n",
       "yWetPB36YmZ+sEB9fXpiX8xiQlzwQDg8xDhUFruRySbtCnsvbMWtDLj+GS00ORUCPMwghdZNYzx4\n",
       "pwY1dSwytoDkbhNWU/0wOY6Wp3Pgv5bmRe6bHT0EOJ5XCTBPGlc4KXimiOkTScDLEvdAfu6rR5SL\n",
       "1TeRiZ+jmzAj8SB7XfDXUwuXAfgf12e2lUQ0kkTVse3jXWdvT3f6q5vyrczpfV+DNkWJk4duHSAP\n",
       "+kPtX2hJhNxXmhJALVJnVbGml96hUgAkzHG2lW8vKg6Ss4/EIsnfNMpWEx3TGdfG/oJsxmyN4ovv\n",
       "b3SPKUQjFFHchZdGzmvwcGLGNdG+bUFv0pwUAPLbKiiy+IpXAl11rW5acnO36euzlOKpOJKYdF6p\n",
       "1DVU3MAgH6QHuj4yx9Qd/NA2HWW3RCAZEkxVNHl3+EIkgyxJqfg2MINMXEc7SEbREJDR6BO5SI86\n",
       "EWNZ6FUL+avd8Y6KC2QNcRjOI7Cg4Ti4CuC5cuyzsIKUf3a0NgP0jslk3aIFhPib5wlj7E8fNjC2\n",
       "q5tOqxLcuyw/HyY+yYIf8eb5+gZL9WA+4tzQrngURwALSTwUmEO7Spezl4K2CcCekl+mMADR3alG\n",
       "3jj5H+l9t0SBW9Tu26vzvi9171Md/uhUTXm3g8QvgAGEjPgHdO9xA27Wlq9jDtBT9OI9JvswdCNN\n",
       "tSKUNaxCBLaNi+GKNBNarwmOrnNsez47hsShccnm/NUkf6pDsgoZB9YSNvnL/cdf4fFq48lu1uoF\n",
       "+byzINDwLrJ49xTGsu8Kamwg9d+DOBVsJ+5ZRoEq+BZvML1J3P1fQJ/rbjbjHDR0cTFYCb/xF+EL\n",
       "kWt5BaFvay76WRzTqJ50XRZJEtMmrB8Sxov8naJa+M5fyncOv9VbclabOEIJe99iUeLjqEHaLA9J\n",
       "jCn1v4enOHHEEm7n4j1ZxlH/UPf22pfNmzQUr2XRi7eUvjm0HA7qeY0qwUB/Ry4dW+qF6JDgd1Uz\n",
       "th0/uwROVfmN+wur714jxbwR2XATpN7qTyTAfef2iXWEw38YsMDLpxzoZk439X///UOhpJVTFpjt\n",
       "cmQTapkOUJYZR8A5HOJ7uwYtOThcrp+nBpG8Lod2fYTiNJd5FnjiExJvNJKO1D2Z4WqLgRcsABFW\n",
       "uW4f5MXRu8GSZXh0Kl5LyNxU05RIopXOlWpmLoz/5CSOljmqvxeQfjVCII3caAjr3cbIfh/ZYMSK\n",
       "kuS7lgUihGiOa35ktcn4BiVh9f2cYI0EEM/D7SSsQkqSuvx/tb4ElrpHCyCNXdBH+idCDiODdnke\n",
       "o77qLA8e5JW1Nd6lAw3wNswJpIgwuNL0Af4u4ygyGS1EO7pPcxFHJAANQx2/yAKa72cAAAT/QZoi\n",
       "bEE//rUqgBp/Z0bsuaii+AB2m1bdKXzDiyYffSk4x0JaUxYGIYsbarEqlB+sUd63o7ofb4+3QrLj\n",
       "UHDm6nf7W0qgk6YU4eLjWU4S4USFdQCeYfj8Y8tqWZIb/Ul43VyUdOCf93SApDo2FpOPP60MWHWc\n",
       "KlVakV1qdgmLcb4d/SHVv9s+ceyvjF8Rnu7ZtmPX8Ff1LnVBShbRzjhGU4RMTcHEF+5jecyZuZH7\n",
       "/bkmc6pSJ2vDTfqzC867Pe5GDMmHOvEnwBJfVvcQfp9ue6AftaqYL/UO6kOJ8S9x5v2wMJ+9c3wL\n",
       "bSPkW2zE6n+w2OL3upWeuuGV4cCZaIDpui+95NadC1RQLS9BIeREawJ0d5ExkilwMAeC5j0PdUnG\n",
       "gHW7JeV8NGf9OEkhvlQv03Wf+9PLsHApFVzcWe7nqZDfxGA8pxHo1SWinqwL8Cpd9gKsJOx8odYF\n",
       "eX6Zx/2saqI0vdzp+yPMYChhChL5pnslr/pjWqlGrERUEfyFCi3RG5JaXWYt5QXf8kx463IIOQko\n",
       "R3jN9BsWeNXhRFF/AqJ5ObI2n2xWbKomAjr/8HpOx74ha75/6HsZouKiX6S8jCc6flQV20e8VYzA\n",
       "5fZ8kavWc8amGPK2sAXmrTYkIW0RlytH4D5L831PBjjfyasXQJRhLe3RBedAwC8GqhFCZ1jnUV2x\n",
       "aSpqCfiur+sYDoK77HUE1XO6qoQBhH/g3Cv+nGZHaLp9YTqZ1mzi1Zto/pmIn9hIFdHL/xNsiEip\n",
       "gLvseJkfToyLkljK2/tWRRikcE/OMzgMPr9tVYhpdiRDWldJZq6cW8XZXaHB2d+eSI1jxbTHBpbo\n",
       "VtEV32eg58y1LnWvLd56mS+bgWU6uQo+ohn4MIGD93APR7+Vi/ZzbsAEMoIUvp5zI/8BFNUbKNQB\n",
       "H8iEYh1lSUWqtGI0cPapbRbMMoFcj7Hzw9e+OAQWN1lcCvRgk9BQxE9VxKsNxEfkSjnNGzI8QnaX\n",
       "cjS4JNMZstfIf//jcdnin7Ln4p8D0YCZ+qvMW7/kqMioMHIPX0E16RTux7JVwvc3XDB6AJcry5di\n",
       "gnidrsjrIviareprg72Kgmp85xzhWexmWBcDx5/c/KV5nvOxZPLSjT/FIUVGVnVa8gox7IP4wNmQ\n",
       "y343/2OdT0CCxXb4MFy/ELOR2NCUDwN1VWrRTuDogCB/DtTV0wLxKUgV1CQjpoKKnMoE5vjQcK7T\n",
       "ddnUEKILY6QilYfjR8bJbMWF6yv804nwXS3RGJZK8U4hGp+EgFWcIAplNO0gD9K/PJjWv6E2eeq2\n",
       "hEKosB3VFqoOduORKptRceoy6PlyuJN/17GuFDHy/67t13CTbI/NlKUcHOCryXN2MPWcRP4BW6fm\n",
       "GrPQXS7w4dWpC93cjYD0i0AY/T+r2LNfM003IJHDeMXFJ5AUiZyXj+0ZBclPZwCJbsZ2qlvVoSVj\n",
       "dAWS6rKleHbSonUZHG1Fk2SCD9ogiPXlKIoV+U/rE7Tg/RyzW49s1eRkabkA5HjZwvEeTDLI8Oca\n",
       "hnoZ++Sq+CUzkj4efmlP36cTbq/DRjPfCNZB88r5ME3lWFV/jN0ge1YUTAu5c8rzJYiF1xPBWcqB\n",
       "POMtPxl+mlU1hv3nLHY9cZar4bb00csxNsu4xvn6zHuMMIS3COwQyFY5nod5ih1NAEhrxFobucXM\n",
       "H5ekaa2rc7Kj/rvZCK+Kd6ksGkpICAAAAfMBnkF5D/8AQtooZut0EdoAP4kY0JDVaydZquxL10jO\n",
       "ChCY3hyfZMR9UzIafLxMxbZUS1jcTOHyZEJg6ia30P6Zi0yLy/V+mL0BupqUUTfekt36EaUAx21u\n",
       "KXPScDAWf9MSsI98643FJybtGSrym05FhSQM5gy2LP/YpUFo3R9syz33RRvcbch6gzJBm9mYI329\n",
       "K613r/2rRaPAOIDvGv3tYQxgW/l9G/Sa6Zus/EgqYCmT8/e3+3gQVXlVV8A4p7VuUoi+gjYPnkwX\n",
       "QCiLpLgvhwcUQzRHeWWNTvJrL3nmSgkFS8axeWkV86PDNsQ12Elli7k434BpY0GdsczuHhgGijcS\n",
       "qgJm3r0m7gagwprI06OMgP7XlNjPwrGoWUR20n5An//N6/8oUlP3AuTE4i1cKFNwuVlpD2rLRP+6\n",
       "sXhVucFBykEhG3BcYBOsbKblfOSmBUGHvJL47ndhtXTtdZvuwD+rebykJvaxaPwua7HVLJpneo+J\n",
       "QG9lvGUY6ftc9oGmK2kNDUtCwbLAKaBt0c5BzYEtwl+RvSOcMKushPwbwSkoEii6i/EbCNQAenSe\n",
       "lVOBTgZkUyjz23mwlgegrnzs1qM/5OmZBMK1ONEk2ci2kQ4jFAvhApGqHkUtNioAHNIXD4KmU6II\n",
       "jPLFz6TMdrafPE95AAAC9EGaRDwhkymEE//+tSqAGX39CCwVTGt3Sjs2BCpvOxw9LrBvuu3AeEUI\n",
       "MGweWr6IOkiFsPBEYkACvvDtf+0gJFj+VMImS/sa/VGQ2XyNtD8rO7OLjG4WdaiBnLRxAJFLy+Cr\n",
       "TmvPXGlQFR5a5bgLClSDqnNCj0XMRdcTSrnP8InpOPydAqdvXESdjpzloUyWcmt1Q+hNTo/gMj3m\n",
       "A34pEvd7DV6UFWihNWJ97fSJiFj1Q3p0ip7JwU0VAEbyrkrQpYsBF9OEOEr2zNh4Rn8X+DMFKLJM\n",
       "etN36n9PBut8Kn7OPTUd7WkTOgC6m5G3H3696h+fIxZOIPbi5dVs+hTxDLVcEixX8JZ8zGAN6DBV\n",
       "+VrKDB6pLpnHZ70NHHL7LsW7ezHS+mdtxRWMZDW9I2smYfZGe9loujYCpW9fkqKHbtUwJ3LUMJK3\n",
       "iE9Q65sdVAvVpRgLSdcCxJIBpOMYhrv0t/nau6ABb80L6oqg997trjlIh9bHRJyRC8T8YPUq556W\n",
       "tlK/CLPdt8lllCcLvxPI5OFdsA7xgWnakkae5PueX7vR1/cwjnsrpe0d8tDAqn0pam49QLGthZIc\n",
       "PK5S1ezKujEVhX0SHvNWWuq5eRRtbbTYjTJQFdzMbaNrk/HjpJ+CISmZDf7umjUCRzyE35DyE6MG\n",
       "1hEkw4gR2oLcGXVF9ReDLCXSlxNLCbWHwRTHhOqsqlR7zdJW1QPBBMHADf3lJXq7aBviNWHJT9i8\n",
       "81c3OtZByS+M8jthIpNfpudgwOHRvu9kYX96KREPDv9dMjXpRumE8bIg0hoJ0mleCoTo3hMZQP3p\n",
       "KwF9WqjqFmK0fg+pjENPw3ImlEi8gim87WDD8h7ddUygZMvqMTwc2S0UcBc2OfnsYikZCvTqcddM\n",
       "Ik2kk3w2pubdm2HqYw1zZPgSyOCPYRs6J+EmsKYMqduZmjkAPMOArzcN/PlBkA+iLi+/Fi0bTRcU\n",
       "svK7y02hsxIpDfEDaK2JhpNhAV5ByB2Flk5UVxQSUAAAAfQBnmNqQ/8AQNoiJKvq016ACdCFYaPi\n",
       "54M3bQdNKq6aoZ8TID+rZl8rI56IFuYI1S8QMEzWYSBaDpFK9JrcdewW/9BQ8hCWAb+xMsVMKECJ\n",
       "X0b//mvkcf2SKJQIANUlS1SFUq8gEv8iCGwIn4ur0HGVXWZqxMVEuxciYsGnduS+exda3SEXySdd\n",
       "WRttFWdRvcRDEERRjgg+nm9OBcD5lCmrtuhMAKHs6Qitz/o3IuEhWgFTHtpRSlvnT+aWLOaGXpLe\n",
       "M+OIMlel1I4n7uZiVrqQoH41AnceKT2WUntuIqxPtOwJv9SQKAxM7ynrmyO7nRE/tPuXb77iKPnA\n",
       "ai0rJ8EM3tlpjyqKIcF7+ptGQ7hwbeoXjgPr0+PKqv0Zu9epPMM8TMTwMao5zn6V3N8+4yxyF7JU\n",
       "eOh8l+7NXSc/tkAyFBHiCoTO2ji3tdVj13AJFfKdxe6riJTxi/h2i9D7SpIJa2N42oU2qVDU7XAA\n",
       "n4UXGKujo1dLhdYQJu68P/57ayfCQigdBx6nyJ8bzf9R2X65gXadYgogL1QDWfwiUKf9i+WbcDvW\n",
       "zL3fvYsladmDDmlYd+ZuKJm5CXC1oMxW7ReeV3qFoig4zsy1tgf2OyJVbq1Lx3l1ijYVEk7XHwnP\n",
       "NPHO+u5WXy9LfGiy9wyFin4sbWCQgQAAA2pBmmdJ4Q8mUwIJ//61KoAYj33/1nrOJnLxYAJaGhsV\n",
       "13XdgOKb7WT11lE4znp8KUAYKkNfwCSTwJ/6iIeaTRBHocUvXMzgiDfCUDpoaM7rS6t72cT9yJ/N\n",
       "jzmC+qsw870Q+u0AX4Tc1G7FaF9aSFxafDrqB4acvZQ/ju+103Ne9yhNBXCDr1Y+X1UwDHP8xAR6\n",
       "YBvytu9LO/eX9C4VbajQTgrJ6ZtlfO9vakTo/RNo6GxhSuqkBQsbb43zyLe49lUb6HqkKvQwYwCk\n",
       "CYXvFDpW+Korlt9ueXqD0E22QF2+Vs/iF7OIMMuMxWFUgRpcZSY4ZLuBKlzm2V7TNK2kb+fUkEMj\n",
       "imVVdaKTot7Pjh0dL2XSy+pio2SfcTIJzAir9O0b9UufjK8+wIJVvlOewUEiUt0cpE8AfxIyY+/K\n",
       "b38vw70pWuQYZ8Ee3/gySAuxbYffzEeAyavQA+PhRKAeENdwdgfR2yNe6PaFEXmohsKGa6+a4VNw\n",
       "ZeVXX3vQFgv3xXoe5jcum5NkUkspLA+PbJbcN3UA/JpcikHXJHYRo1ZPTy5ZP6FrGsrH2Fy0xrM9\n",
       "Tq1w4H9xASFthror4wqOG/pjKUsdEikljhat19Oi3almrvF5hFCgN+6QKinnShVCxC1uldAqVyi8\n",
       "rZpYKlrBroFjzCijw4qgADDJ0TK28hMjvoZd7omClKDUALCCjrUGv2yh3F7+LBHfMUwETg49pcik\n",
       "MQxl/t4h7Asealx3DeiyDuzlQc/w7T/UlX1/80xM3flX2/iokBvNzMQ2LKRVrJJkMFwG2/yS1sUz\n",
       "ye9K/3i+C2KimtitwhlVYhCWe+9t9IgD+PU5jqJPvmfDRv1ZyeFWSqngDJbdwni+kqZHJlZezhus\n",
       "mxhZ5vdQiKNnBGkR8Z2od22LazTQwHuDN/I2E536sQB9IIs2moWj99wdszIghAkZzssjP5qQXhec\n",
       "Iq2MgbxYdPb4+I+CRaBFP0JogoRDezzXfxYPGes9e3pc8ehwsjP/ieDxdKyCLcAQK2sPyACz8Dtm\n",
       "ZAL1baHUoGm5G97BgXUAhqWxF3wm+mZTlfJzZL+mvXZBPzvKbDixEOTgK6PwA/x6qRJDhX7uebJk\n",
       "xLINXnbrvGIWVhzk3YbFlBqqv0xMeqIv9ZN/D9iJa/s4Gw2GO6j6RfBkheqBAAABtEGehUURPBD/\n",
       "ABzN8bqy6AAE7Itdeq9pH0M8RZtPgt3W3MXYGpg1CNVXZWUw7b0r1YDwIfEUzjPgSJ199hZIxiGj\n",
       "PMGa9TMlHIhan1Ivfe1Okj2NQgmhcPKfHxTd8aZjDRS3dYR6RzE/cg5REXFUt1A7vt/eOox+9pRJ\n",
       "9NIUWuEl/Vx4BwJT9qHKzEudndMQfnbyNYYM3v6VNIIZAyxH3eNgphcC0dbX52+j2O24w78t22jL\n",
       "uYTVB8EcOpyB+hxZlpTzSUrKvr9FSRqjD3ZurQzj/j9fL6OeXb4Tlq2UZyi4R3OAg6r/dvnoE0bb\n",
       "/ns5X+RasdcLYLUihZ2z2KEHGhyaS4jePrb4ow88Qai4iNhZ8tZS+Qci7ca9HryZa94hwLCDsqzP\n",
       "3DWNWJGNaBJnofQJxXeoI99XR4jzfwPDGY0w3o9Zj7/K/NzRo8OrW5u57HXUfhbxmzmXI0oVVmjU\n",
       "+IHpXRJXd3PINChXDsp89v5oI5wVAklCMt2ZUjBm3OfRJRmMRL2jx6EkEWzLi/jTxRyNBv4qv80O\n",
       "FXMICJ7SNHYKFjJgt/GV8UYZf4cZy+PXSYsAvoEAAAGcAZ6makP/AIKhAks3i8i2ar0AE6nedkZV\n",
       "cfbGE5Ts//XPBeuemJKBMowblq0qJ2QqZvAMZI778Rw2hPOecHNwvv0CAEkY96J80MQJwpan/Ahv\n",
       "LimmGNAwtjPpjqfr/Nfm1Aoiw6lsQxKGiMVWzw/n3riVP+IVlJWGdDCzcF0cECYA8diACosFjKJw\n",
       "RV1dRiIJYQ7iUJgGenRudW4PxLHNehgP+u8C5xiM/VeWT4m94XHhFRdumwWq7ofU9ev0AN8pfXW2\n",
       "3M8KvJrhMXn1/hldg6GCzxXJ5J+8eBDTmRloU96Ors3G98spwY9ACGaeKtK/I4jLQRxwZU4pnGj7\n",
       "d/42hacynZcobxuWoZkmLKzsXGriweAwzkqCn6ywXr4S+uR4ZHw2xs7gs4blWKkzuEF9rQbGrlqt\n",
       "+J+x8hQoi7YZ5e/gq4+H+KrhWXK4ay7dzlfqpYyv7FcXKHbhf6rtqfMIdb/ksb6fEVrhrEZgMjUa\n",
       "L9inlw+H0c3NO3WPx+r8mf+0/YMCrkuP1pLMOcIaXdnnu9yY8S9j3vjfNpt7QQAAAoBBmqlJqEFo\n",
       "mUwU8E///rUqgBevfg/G8i4Y7ABOxw/FguY9NORgM76FIoo/WdzFbs2yG/tuQ0wwp32pPfR9v8hc\n",
       "YIdCyuYGjfUuWs/1PLpvZ3M8Ure08oWCQFefVH9/VprNk0sNmlul+epPznYxzwRy1gkWrIE9DEgM\n",
       "WMbpKdv67WCE31uGNjPe7WWi76pvIJv4aPAiZQiumDKdFYOil8iSdjydfGYZ/a/FvMijLmL8gb0y\n",
       "47+3ClpB0iJkipyDfUUWvQbrDz8DDuMkcvTI79eDZQ18FEOqfo0MDsX348+IHs4Vc9H3TbDdqwHl\n",
       "dKZsalci4SSILDdKZdIzgisQpzS5FCqXL8jefjK4qQz60Iyd+yBn8kLCA/sWMj/uYtEZMl6K4c9i\n",
       "vbCpR+xv4tXrG0gBgHwI/ZGVCQkYkRy51lsP/Rcmi0oU9lTX/Uf9lDohvPwUrvoEt9xO+M0DMpN7\n",
       "Nch9HBEZDuDgSKbDb3JRkz6aJ1+iyHigeMzERELA7mzF9m0MAOK5kRtBh0FpylG/P1i5T81WOeux\n",
       "TSo6zsbJm8fe15EwwZbZET5pN3W9dnyU6ezDDCeSl/vQyBc7ToThJCcLDv+mT8tk+6GKpehYyU2c\n",
       "e/YLfVdDOgO5KBayjYXgdm/pSdzAhZpmmyhF6opkpxtkEI5wrcXfjEJcdPm6BHnAYY2NuCy/+/Nf\n",
       "yjIpITW6+zz+3WjfjLsVcjelK59yRNXuum0pJIi9KGBRdbnVt9LJbjxPvqo4rQWT3S9xnoY3GQti\n",
       "+/DGhMYcS1mM+RnOwu4fT5EnnkCurezCtHd9DblULoChFZq4e9kD80CMMgdJVEJE8yziuk45uzYr\n",
       "EuiKVflgAAAB0QGeyGpD/wA91kzFeACankT4Op4OorlP6OkoRhgUe+NkD3WMu+0N/s2FZg/iT47v\n",
       "zdYqySoEl8+GKl2cmMqToT7m5p4J8oo/wyT7/rbeQeP6LF9TwdRTyU/ueX2JKA3soEtmD+BC9scp\n",
       "8bpaRxhBfBNMEXYrAfz5vmeaPsdQIJlCN7V5PJvy0U70oSxxZrmMk9FBz34k2gYKYeH/2M5h1GzB\n",
       "rpOpRWIbY4UplyuK48MSWQ+kA3NzVZ/sbQasaunRMrzzAAetSZRVmODzYE4BdHKsNN7U5gKQpdaR\n",
       "Zt6rgxXOwgMFNsTNyfCI5ge5Kc8Ro6xr0hvOA9cTFJxwC6w2GfTCdn7tjs6QcN9XNVViOqoLFnU9\n",
       "Vk+ZdMiIve6aSsBej3/r1tGBVW0LeLY2ITOcrYI5gUpSwH4pvP66bAEJz/LS490eoeBf16GXK4JC\n",
       "+s8JjhKRoP/NhSm/CrZNBuS7jmnDITyPNwuN3TTusWDoLIXqRjloWIpDK3Ap+vSAPxbM8SaohfDw\n",
       "HWck+oSAZB0rxLI57tPLvGH571tT8ytQ98y9IgERSogyEcoMg3M//jEMRbIyBlm1bxHirYP0upGn\n",
       "UQ3zL6jtVB44u1D45Pwh+Njf6AAAAohBmstJ4QpSZTBSwT/+tSqAFsdvDIsABNXrkBuFFt+k8pNq\n",
       "yMoDpnY2RCHoJuyngRaFHl4irLNUhucHwkHPG/gcVhkI4PvWBUUM54u0FU4ruc8+4iMSkwYxUv86\n",
       "6VmmCTTZ3bhQV3Olsone/5cSpHXmndg0DzSXP2FPFfKleBWpI3Xfovy6I6vy45pgKMhuPOaKIybj\n",
       "1bYEGVo/wWrC2MIAmlT7XnMwAEUfPWE60uLXd2/l9WyLOVZdOvKLfiiIaQ5cucw94nqCJEiS4MFl\n",
       "OzMnistz4TGThP7lie/049mCJ/wF4msPzi/XVdkz6AweMKKU6Jn3r2WHhJ1EX5vvx2hYQpc/CNzd\n",
       "HlBPXQdrNsxTlCBf/2VOvPo3noUIMbw+Hv+AY6lLDayt4h1uqc2sM7I32TuguTYtLQgsTg0cG1xO\n",
       "MJLd+7tVwgltr0sNvn3DtyMyMq5/egll+fZSpiQSjEIcOZ92uOnamTu6/NrjuiAsFtWq0huxSAJx\n",
       "zbCiDKpuzelnhrlhpmhA+I46+5hqVjLcHoEhag3xdhj2iNZkgbXWm0Fw6yDds8LnuAs/+FoqzsSb\n",
       "6EBWy+sFrD4RS/msyhPwbPYkm4jhqOaxO01bR+h2fKa9DX/yFEmylUcJhjNv8qipnXUkHRbTZskP\n",
       "VyEK79inaESZ+N1J8eNAE51xgu/xLzrb9sCz04M9MHEyQfsTscc2isJQYYO3ajqWAtiXnXTkekg1\n",
       "mpL7TX+DHItK4VbzSaXjaI8GldGlM2XE9C1EOQn7WO5B9gXaB7+GCGhHlDn0ilOUcBeSzPeismhF\n",
       "RYRGKR9tNzHLBY5CwrfYQ5u6q9zSBdbaFHsNFu0KLASwDDQwAcAg70Enp1MAAAHEAZ7qakP/ADxu\n",
       "weCTVwATUh7XMRAey48pOnolQDmj9YX8Oe/dv7bkvdg7Y7WZtV7TmI+t253fKG56KltWz7YUbiNS\n",
       "vZIlaqu0+/F0F4ckt5BghWjfRR8ay7hpr0icppFoj72anTkUh10n8vnBoc65CZn53kbd2pKcODbA\n",
       "FxYrv3+YN6Cm0dCHSTz4CwzVkN9c//HiVLx12vog3YHl8dfrOnCQ9urF97XCvdMNHOWuAhpGRtOR\n",
       "vDe7dzUvweuaAu3zWDobRzNJy5LIMuK8SKw0XqVjqOuy1fpOvaZDKHnbh0yA9TKxvBHec1F/0al9\n",
       "iCUj0tuSdc1e0lEQOKdOmNudoQKyV10cs5NbDhXaFZHXIXGVE61XTwDsYUjBCFJmKBMG9blWUBrQ\n",
       "Tj71ptf6dPAUKFubi7veDQefXz8YeVuykisLbSrBqiaJcvJJR/7ZYvdDOfgejVJNuqNwmtW9mGMg\n",
       "4zUxOqv2I/7vx6OpDNycgs6M7inDyu4tiS/q57GGyO4NNT8gjdXkpS2dR+E9kz9Q3u/Sekz1EtiJ\n",
       "rdJhSD0JEFbFLqFOc1Fvi6MeKQzRZh26cNrQFSzihrwWqrMM3+M4rTL5jDAAAAKKQZrtSeEOiZTB\n",
       "RME//rUqgBbvpIJrXtbAA0dSX//0ja7zs2ekJ86Na8fAYRUAQEgDCkpTEJ5mUhWeweprJogwNe7S\n",
       "G0rIs02VBzQ/iQKt5K4Lep80HN4YslOZYgCmlwbq2jV+9OyVkdFR1x7Td7sSYDtlWLpo9NWA+cSD\n",
       "dIh+lxF2f9Sw9fimCtsxVJQ3Z+GJYPIW6SpZKkgDhE+PgKl7lgjG957JbuqpzpIk0BWQEQOOW/J5\n",
       "DDq/DXaCmtpvssGW7fSnB1F2/JcxVhaOAd2LouxHPXyr5VyD2q0hRucw272dPYTbFDdUZ6iN2NKD\n",
       "9JJNfG7Eo2tP4ae6F2+MXocfwa2KYjUxy3CcGSYAfX0AtYH5S64IK5OtEGJh1sPaoT7ewKSsPEIT\n",
       "qJfWuketbcUPbjStjvv1J8XUldO5ydlbFJ8B23nTm6+rsQ2cCKUBCbFVjm/ijB0RGwu2bu05U378\n",
       "wsECjd+1WEyhb3uGb8iOJnes318Ng6Jp7WodiIMKBza3Bk/C1+cE1MjM2JluzA6Tj4y7Np0YtS5F\n",
       "pire7Grk7EGp2+Hr0bY/DrwK7uPKMSGCMAXYLxWbYfUEme7zaA2d5b4PM+QPHglIVmvawMYRj5rx\n",
       "MwbOFM3Nmsr0a9hWkt/we56563C2ZtubQ/QOVJzM9SuPmP+f+a3RzQN4PL70i7jzfsxMwAVqgIaq\n",
       "WjR4W96IIP01ZCw5tdetwQdkzOp4JpfZYvxhRlmpznljDAAUaYMjzvt9wjeHnoUQ+BGRaKYQGIqw\n",
       "luxMEBsBr5CBW4U6ewxDS1/iVrfh6nknLjNYyNOfVWKgsjlC/nD2Dj+TRvq4O1pKexPkVdI4TtjE\n",
       "SyHOh2oyk00fwF8EGzIAAAHEAZ8MakP/ADx4QFzImsQOAE1KQPfWZ3MOqDIg2SWHHfSnMaZv2z1b\n",
       "INDmWjo329j96R7zaOYpDDnhUTD1q4LAXN2arK7i6HSA90MeDT0JEfXT1U46FTxijG9R9LDjkRX0\n",
       "O7bjzv9e59gXnw7mj02hVG+VlwTQ1l7PwhopKIT8mXVyrrUWa/Yq+S/8J/N6rK0qHkFbKbe8hPE5\n",
       "SOdBBZBs6jZ4xlUDLXlBUzw48eOVN5vL/14j+GQH3EwNGH13nSkMV/Sya+XWHO5+lB1Zjqh8t7gX\n",
       "NZzfFIbv3mDiAqwdmrFQGW+3ZX5Jud8N/UkJqSHhJFstVh2tIcp5faR+ZD5KdVOBcN9QR6Bg8Sqp\n",
       "YXdioH3Na/5wuEdWe7DMC/7eeokYz7objUgX2GLAyQZeyHcx6gB2Qnl5fWf6P8Yh/2iCd6GMGu1B\n",
       "MtJn4xVYawjfXCtN/JLs0gMd87CFFD2BwbqrILwWUJMP/SkADa3am81RENdgxm3ELMKTC7PlzZB5\n",
       "zWLJqU5Hi7U4JD1jg3ue1dYFHX2Kqsw1lgFeYBm6fG6xKuJT5tv+A3LRgD9pyUfY1eNCpskCDS1y\n",
       "82m1QQZVWzuH4F/IcacAAAMgQZsQSeEPJlMCCX/+tSqAFj+dPvJGsZvMu2oAIUvd7Jd01JCmILYx\n",
       "Qr/yA7ZjNmS5pZH781jGp/ht3CqquPvyr52jQrd00BUNH0uf9SyS+2HlQbUczkxFifdZiaeRIx/2\n",
       "Zgg2AI5tzkH3UQvUlUPsWuBP2Qx+MPr/78XnEuoc84RH3dIAeAGq2dDUepq2Qrd5wR55hI29Q5t2\n",
       "UzOuYmhtSjsxvGzlAVG2u2yJJ7DxPlCh/pWmxicqAnQCDPS0RxLNhpdA3oWgWBs+Nkf4fMGeyqkB\n",
       "IMYvkCTNnOXgtwH7dJXW6gskfYeFnboOyqA0E5Oupz7NoRKGaPTZvQX+EpiDIN30KN4SHq+qMJGe\n",
       "JgkcJ4/MIR423O9+XFOgJ2nrs9detivRLKUnDFZF3g+96sONJ3i2tUYFZzQreoDyFweYH38L++VP\n",
       "qgR/WoZCNeNdtf8uoaX2T/ivrL5Trb/fHSaOcfznjTzlubqPx/W5SZ5jYOflNc7sJRZrrjgvyT/s\n",
       "6r4beXOq40g+nAYbD/wQtRf64Ylya5ViwbRQ20+qHAE0TwTyCWqWsovmQpRp1ZjMub/htuN8pk3a\n",
       "9ryOCKyEVe7Ah72gI7wQ44tFglPQI4azBtYWZELYkvJheUT6NtIHKmkcE0KALHVuOdORbwbKGa45\n",
       "YhH7dX8hpEnyO67kPGTVLT5iNpkUhuNZAo2sC/Gkx4lrgeQHxbOC01/LIQJIEcbSpsqluqI2Nmje\n",
       "0pTtJG0CLTGgBcZ+txWiC5rPpM6scVf7Ncq6SgszTKaAHlWrUPZ7eoCTMuj0qzSZ/dhBLVuEzFTI\n",
       "5GguOsnA3m5ASJWXlNY0o7YGQ6e13ail0MLZSNXp87CBvE5AuCYTsP5XDi98+aRKNbVxzuTNmM2U\n",
       "FQqkzXbPuubkHeSLBYbSccvg6OBxQxmtk/WWmdN/dbTIy1yFAjVcZMtRcJldOf2O35wR2v/8mLkR\n",
       "5/THQ5Eoh2caKqEHDdy4Lbe/7KPSZd2sDtrtIW0f+v7ubLgyFEd9wKRPIw/8JGjTNJSVwLO1miZI\n",
       "KQRnXHak9SUNYpNCCBLyUu4CteEAAAFaQZ8uRRE8EP8AGtDK3aiuvH1zZLvXRffACFAoCl5o8BXD\n",
       "gGae5w3jpaJYVedwWU9XzJN2dr9+qZpjgeU7dSRpNlI56rS2qf1uhcpfpnIhLdDjXUh3GkkcVqES\n",
       "bFPdktGYn6kVZYzF49dA9BQY2S4Mb8jtBdKW3wQz4tf3/hDLZD8/povl3ECCTWAzBVBfxBA44JR/\n",
       "t8Tq2go+dJ+VDGpirVu8J0U57MGZjUHO1ZuVFqjhznP5zZbO5aEvaAww8kDqpylQFnWcODB4BbJl\n",
       "TaPECMca80mQdFPJ8QOUjGvxdEjfsWKkE582C2ss5nUs+ChLi/jjkmW5reJzNCHw09quzaC9L6XE\n",
       "wf8PmlZzHXgAdjVP3FgRyDosqDpF1aH5+Fxc+EiKEML5MEBjnF3Xtqn4TXYXS8VkQ/HdpPYbkc4m\n",
       "L32rxZq7kPkINAggUvED+IEmhdFu9j/E60pIuQAAASsBn09qQ/8AeDjw0PicK9HBOhABOmRlI2/+\n",
       "cgHpDrZdArFOfglJ1an/3m2FkEFDF066ymQCGZ9ZV6DqI31caxZ/HkKNaX3+BQLe2gu6FQeUneOd\n",
       "flmXN4O1oxn8fSxe2bMuV+/PwebL3G5fND8nRgTcQF6cmfTouikdNqugb6XH75vSq7p58/iwEC1I\n",
       "/eTbcULPwJnFumhxKBLls4rbUykp6omlyGf5g9NHqVPTv5hS1XzntBiexHo8PxVd+ZCRjv9sJdhW\n",
       "nXUGZOpP//xzsrA9a4U3lE0UBMRYCO/YUifnHiOqRM195B/agFRZ4tCvJDl1tbzRLZ+WbAAyv8Kb\n",
       "wqTBkS9yOV93NF9U2uLn3V2KhyKc1Q61cLnFM4Fr7SrA5TxbiBIFFXQAv2OevAAAAg9Bm1JJqEFo\n",
       "mUwU8Ev//rUqgBVncZMpQATtwwDT2ptwRaXv4RzHHP9fDK/Qvnv/btygalDgUu/TukTai/Ux4PCL\n",
       "eKEm0QikXVf87h4KUY5jAVTwatkPvdWbPszKngpisvhn04WfPcj3uqysNKV/DjB0VZhgnUZAOW8m\n",
       "cfE3IfKeqVqdq+sM5o7Ek4bBO7ekNt2IGfBkj8ePO4A7OTpWOJulg1LAONrUT8HHOma9XECZMCf4\n",
       "r4cB3hNePsH8me8diluNMkNiaBz6AjkMpG9CbZi49n6HU84jxk8Yz/GN6cZ2aVM/BMHP4q7sKQq8\n",
       "3R9LJH1wTQAjfLCBNBwW9MSwvEOsYJYXedarqBbIu3Mly9/DDtPoQUmLUsYBb1w3WWiDUug1Hptd\n",
       "YCFB9vPDx8af1JEP78WgWGX0Bza7RcYbL6/gKl1VxwOMxAitGl6+r9tlFu5Xjcns/AKC1n6Hd4tT\n",
       "kBT7Bb+Hu24fSguTW7+8K7l3hVsF85Eo0R6ms/PxiCnTQeAzgGeb2jmf/95OQpQOUnNBp/xNRh77\n",
       "8rUCaGtsQgSRf3BOvCk8C0I3u+GfExPrcZyW0x2rcBCu0eAoSHIu6jmSmQkyyUmAGi6q/RS0o8sL\n",
       "PsAHZeAUUPccTf17H3K/CZqfC1tYNOTITx5SAVUMfDbrGHHBa/A3A+yK5C8nRFe77ORaxTsUXRsg\n",
       "s+Wl0W7BYAAAAf0Bn3FqQ/8AeEZaW+u+b19FABOkQrtd7souU11/CS4uM3NcEgZrLUu9MyArMTTH\n",
       "ZlQtJsm5mDOy+vfuYm2CmdHCmQ7a3PzV9zrpeGVCXkZkmaiL5Cpul6x17sRXJK9Zuc3Q61e1nCu4\n",
       "tTaBev18hAMu+7SvzncMpzqXXQR4KYwhuQNwd5rQ4y66WEtmD0MkPEFM26G2DsJH/VXmLHq+n+uD\n",
       "s7KQvGPTPURG/IYYaPmmdWhH/LF5X3fAfUg8p1BvaTICP8/c0EmMEsYXX0jaLtZfqcCK40WJSYcc\n",
       "LE7qwACbAy2sUdQ8qwOzwAA1JZzVeOq7Li7HBRYzuNv2o0MK8bONXDjh78NhM4/WqGZmzhpnNVFz\n",
       "dQjXkS8pdg0b37pd5lDSnNWciNs32tqtVGRUeOf0QUXmNtEu3Fz5ME+wC9CDkuhVIezFSRLKfCZO\n",
       "n4VyrG/yLROHITuUyDb1AnJInesMvYw0uO4WFFJ1Ig3i2OWQXIucABrsl/LWbkVftBN9y196M4np\n",
       "fqksT6o6QC9dD31I9kD9Ym9ym7Q3ejSf7EkDg++wAQVqVOSMAHMxgrqbQ9y4uzunM+mqHQ5K21Jm\n",
       "c8xuYTZ7pCQvbZrY9NFIxNOPy200WvQPenbWmPNFqSoqndJFhHSZPcOnMXcUO8vxotlMaAKPOOJG\n",
       "RbxzyflvLQAAAfxBm3RJ4QpSZTBSwS/+tSqAFY+dPpssDCR3ABtLGV4oj3Y1x9YsOB0Z7hXBMoIM\n",
       "TaBhM1rr+aZjt67D6gEAA5+ikEavvc62jLIETbDUd5rhWpdwehQkfSQhIZYjJciAU7Idqnb1Zujd\n",
       "sGr8vgJFPsNN6IHp4g98rBKtiVUfyIupc+BR/mc26VRTkHhmW81ZULUfVgbs9ez3++4NSVwr9Mun\n",
       "Pbfd88G1BFfstHlsaXqqL+fnJ6gqjjI7Hgvo+XWu/P+WNTYa16Q5lJBqRX2fRmM7V8YASmLJ0ESq\n",
       "+k9/AHmoNh4xdF9DYW7/poV3xynJ1H7fLIr1op2FVtfJkRt9gnF1Hai5WvNs7BvPAvSpD2gouVRc\n",
       "RFmGiJFTAQaDPHhzdKX7TC0zJHTBuuRfv9TJlUdf6DEwM339zJJy6TwYGdq9Mj3GfcEDmsWka5/m\n",
       "NPyqj5g0ZQoU3kB5FnwBHDaE8KGy6LANznlHkXFLxbwwBSelO52ZUYY/9bZ2XQ3uxdsSsmk15pCo\n",
       "1GkG8rMpDQ67Z6Sb/bVXykIJOTnDFx/YjwimxRQKuIEPCpGkWWLKDrXD5HZs+b2NGYxaJhrq9MlA\n",
       "sj3MqgrXkaZ21MJ894I4mrYqeL7W6VRlRHf5FVt70wj4UVqxGvqmR5Ov4L7p7/fdYzDqDfCKc0Ex\n",
       "N1W7fr/AAAABwwGfk2pD/wA5uC7i+H7ctiACdpHg+7dhTfIubZU5rDowTbRHHDi7exXckfE8vWmb\n",
       "EAKoQxBGnhqWTrDatFPutNVOx0i/KMw+nEVA134a2MJr+x5YW0qZuhtb0iQzmmPS8EXZhbwkZAuy\n",
       "++gzFF7HJeCUhdcpgXXJJ/9FBY9Juh9SXGEfETDbvidRjEYCNdhkFkytWUYbtMsDPH/BCtXEKtG9\n",
       "wmU4k2GkGJzDwU+Txkg7ODjEEGawutis+HBTHF/sw0MvaExrlFaC8uNs9mrj3935JhyAr6vULaSg\n",
       "kiRepkLOgP0RaRzJYvc8E95X39jX9ZQw9k9Mxle+pYp1DyCj4/WQCte0uD7mulZCnE7baVW7JUCX\n",
       "xCS0hepPMKsDku2Fn5uHN0pmKBgvSwzsbJlVVPs9M2FS3HwoBkNr2Wa58tnOOTyRs8rcrLaYNkOq\n",
       "KkLL0X3ORcmlinaXorrv3kFfT1lXO1D+WyOGBX9Y4Psf2M1rHFv01EdBq4DyyojeqE7qUtiKB1b8\n",
       "P6QW8x/ziTA/kF4CeSdIRFDrUyRF7jG/RDfmPdgqQuVtSrG3JDOqCcbrQg4cLIwcygEHHENkg5Ss\n",
       "rQ2fqqgAAAHrQZuWSeEOiZTBRMEf/rUqgBTfn8U88MiON+nCw0bdBvfdaygw3dm8nyGLDl6ai0ac\n",
       "cDG3Ov8UkvupZqkFSKLOTMbEK2ftXiO4F87cHucRUwsrZc+8GPooTu0Va6LBDnaczEWMfWQj/8Qk\n",
       "SNTFJtdefVCfTHRYijXCYrbVaLkJafmTCKOWKuXH76dptqPqw6jtVesT3eD3laX/kNjETV1hN7JW\n",
       "/BHtCqX/gCXAGii4P4i5h/SDwWeC4Rrp2GMcpn+pLxFT7vsQXfWuYMMzmpPENyB+BEYBsE855Kx8\n",
       "l9vtC+bUuqYERODLYDeSDKg8+AIfhIDHpP074gUoEZf0aI7GsbBYUqMVqxfsKC7Gj4tRX85o8iPp\n",
       "WVkIV4k32XXMpMJpeZkZbQ3C9FDHgQijrctU890yHiewnUZnFXCQQuShXyvDJv1uGiNkNQ/mthCX\n",
       "IuajlUcdsJ4RHHnqY4haaOKIJoDl2z0zupJ73OKQoM8wTUzff1akIg9tvbaRzapCTZzKaC5pojoC\n",
       "1zs4liaKHKlwHVgMoWm1bDk+VBta8kHY6k+6KtUVo7oFgh6vAD6i1y+aOeNpvpAVNFJQprmos3J3\n",
       "FLfjSwXZ/iFCc1SW9ZTv5VsTume0Aq/FwdykCchbflDZ31pvqpMahcH6z3kAAAGmAZ+1akP/ADhY\n",
       "TWEHfFQAjKklzDAKp0pewKVGC16gYEqHpIxJQJ7BMxN8roBZ4GumnSN0ex2Z3YHTqQvs2Jv1vNZ2\n",
       "ldEorQdsF9lAv3gvu6M7TJQjU1GeuC5XQ0HhZ8NJxlr/N5EtXEuYQWn3mN5/yBzDiPdjAwILr7sF\n",
       "P1mjms5NjGJ37BMhNGB0Wa/u4XOdh1wBIUWZauNDghQAtG+hEPz04ZjHTsg1iOaPXuH0GQqOZ5eW\n",
       "qLxA0teClYFIjqAnzL0j3oJV+KGibG1ZM6gIF/Y29zE42oEtVZYDOpYoEAnIuONjTAWh+QW37PWW\n",
       "YvpOOXNGszPo/uJTvtexR3GFC4Gx7ZFL9iHRsajvloqGEBl35HKitJnmf9klmxK6+Ra+umEqX+zC\n",
       "KLjGBEoUhieg5nVSslUN/EcGz8Vdf4GpTjZFFe5SOPHt5buyeoTvmTbUeFeUXrRpSci3RjI86/Xo\n",
       "BaTKRVhtEzOQP5Zkzl5qGkJBoR+VzGH6Ru+C/mMiGxNAFNQUibE+h3yWKhBl3xnD3Wp6Y2cnkuhh\n",
       "JylBx6MS6xIclkQrfYAAAAE0QZu4SeEPJlMFPD///qmWAFCMAaisWclABu168aBM4oOoqL4y+uoo\n",
       "/wxQUANTzkXo6Z504jG/mGVkVi8rJWfYlP/9N8XD8VYTngQwN/5JvOwfYfbPLYFewcXz0xrzx3d3\n",
       "sXqZehEu3W+unN2ONzf2YSL/q3exFF/Xdmdco34st/guXCRwVIbE29dckOLUNguZ0nd43EDuwX4G\n",
       "wmcyNKH+fqLTwmlQ22keY1QTTOIkqIq9js2PSPW9h/Cdb+xzUHHiS8hxhCJAQmNKSAIqBF6gXofQ\n",
       "6nPNawCQozw2s/xtFlfGmIHx1T99Z/KqvY1QkcNBD1jOttEzKtYqBV7hMqNF8KFd+ogtk3TZO5os\n",
       "Kb7ZFlRJC8A2mbiFnn8qwq0xt7XN0VwQFQsNYvTFSoqX8ATwHN4rToEAAAG6AZ/XakP/ABvvlVkI\n",
       "vo7IOVHgAt0zSQ/tWv3UWry3njbH4lD4sPvabmf5SmuZfPb5wUfm8pIWT429SQrNLYrATXp+GGUz\n",
       "E2OACBHX3evRY4k91pZazNEzXHmHkRB8n3TvoDst0WwJbYNOm1ESrauRF7M1W/U/RHLfuIum6fEn\n",
       "yGQAWxC85knmcIvJnRvaPaBp/FHyWwvD296qacCVpgyYpKEvF3MEl40HSvoiDXAM44w2pzCZmNfP\n",
       "phpeF5MhlNoda2A6ZqsHWbPJbEtQlA0g5zU+inYFk5NltOuqRbMVfYvtCkDT0KKIobuDMMa5Mvu6\n",
       "s41FMtgSiFP2uIJYoLaTdT2pjLhjWZN66q2q+F07ektWd6NVWmPeLaclTiTWpRApyXO+oLA89peM\n",
       "Y3ynGPDm7MQ0o1kSnde+d0vnAxfta7C4j+YJT0lvN6AGE9djK7OF1XE73ctaVgBFP5fh6kKR1Ru8\n",
       "SLOaN5MPvcuiB3NS/1K/VFzDuptUfbFbxx/tiUKC4OJtgm7al7tWLP/rxvxC1VsSoqPH6ZlQg7c0\n",
       "5ADr2Isk+/RZg+AXs0+/MmMkOLYGiR1EsG4WNFLePQAABEptb292AAAAbG12aGQAAAAAAAAAAAAA\n",
       "AAAAAAPoAAATiAABAAABAAAAAAAAAAAAAAAAAQAAAAAAAAAAAAAAAAAAAAEAAAAAAAAAAAAAAAAA\n",
       "AEAAAAAAAAAAAAAAAAAAAAAAAAAAAAAAAAAAAAAAAAACAAADdHRyYWsAAABcdGtoZAAAAAMAAAAA\n",
       "AAAAAAAAAAEAAAAAAAATiAAAAAAAAAAAAAAAAAAAAAAAAQAAAAAAAAAAAAAAAAAAAAEAAAAAAAAA\n",
       "AAAAAAAAAEAAAAABsAAAASAAAAAAACRlZHRzAAAAHGVsc3QAAAAAAAAAAQAAE4gAABAAAAEAAAAA\n",
       "AuxtZGlhAAAAIG1kaGQAAAAAAAAAAAAAAAAAACgAAADIAFXEAAAAAAAtaGRscgAAAAAAAAAAdmlk\n",
       "ZQAAAAAAAAAAAAAAAFZpZGVvSGFuZGxlcgAAAAKXbWluZgAAABR2bWhkAAAAAQAAAAAAAAAAAAAA\n",
       "JGRpbmYAAAAcZHJlZgAAAAAAAAABAAAADHVybCAAAAABAAACV3N0YmwAAACzc3RzZAAAAAAAAAAB\n",
       "AAAAo2F2YzEAAAAAAAAAAQAAAAAAAAAAAAAAAAAAAAABsAEgAEgAAABIAAAAAAAAAAEAAAAAAAAA\n",
       "AAAAAAAAAAAAAAAAAAAAAAAAAAAAAAAAAAAY//8AAAAxYXZjQwFkABX/4QAYZ2QAFazZQbCWhAAA\n",
       "AwAEAAADACg8WLZYAQAGaOvjyyLAAAAAHHV1aWRraEDyXyRPxbo5pRvPAyPzAAAAAAAAABhzdHRz\n",
       "AAAAAAAAAAEAAAAZAAAIAAAAABRzdHNzAAAAAAAAAAEAAAABAAAAyGN0dHMAAAAAAAAAFwAAAAEA\n",
       "ABAAAAAAAQAAGAAAAAABAAAIAAAAAAEAABgAAAAAAQAACAAAAAABAAAgAAAAAAIAAAgAAAAAAQAA\n",
       "GAAAAAABAAAIAAAAAAEAABgAAAAAAQAACAAAAAABAAAYAAAAAAEAAAgAAAAAAQAAIAAAAAACAAAI\n",
       "AAAAAAEAABgAAAAAAQAACAAAAAABAAAYAAAAAAEAAAgAAAAAAQAAGAAAAAABAAAIAAAAAAEAABgA\n",
       "AAAAAQAACAAAAAAcc3RzYwAAAAAAAAABAAAAAQAAABkAAAABAAAAeHN0c3oAAAAAAAAAAAAAABkA\n",
       "ABQQAAAFAwAAAfcAAAL4AAAB+AAAA24AAAG4AAABoAAAAoQAAAHVAAACjAAAAcgAAAKOAAAByAAA\n",
       "AyQAAAFeAAABLwAAAhMAAAIBAAACAAAAAccAAAHvAAABqgAAATgAAAG+AAAAFHN0Y28AAAAAAAAA\n",
       "AQAAACwAAABidWR0YQAAAFptZXRhAAAAAAAAACFoZGxyAAAAAAAAAABtZGlyYXBwbAAAAAAAAAAA\n",
       "AAAAAC1pbHN0AAAAJal0b28AAAAdZGF0YQAAAAEAAAAATGF2ZjU3LjgzLjEwMA==\n",
       "\">\n",
       "  Your browser does not support the video tag.\n",
       "</video>"
      ],
      "text/plain": [
       "<IPython.core.display.HTML object>"
      ]
     },
     "execution_count": 5,
     "metadata": {},
     "output_type": "execute_result"
    }
   ],
   "source": [
    "def convection(n, u, u_old):\n",
    "    u_old = u.copy()\n",
    "    for i in range(1, nx):\n",
    "        u[i] = u_old[i] - c * dt / dx * (u_old[i] - u_old[i-1])\n",
    "        line.set_data(x, u)\n",
    "\n",
    "u_old = u\n",
    "anim = animation.FuncAnimation(fig, convection, fargs=(u,u_old), frames=nt)\n",
    "HTML(anim.to_html5_video())"
   ]
  },
  {
   "cell_type": "markdown",
   "metadata": {},
   "source": [
    "OK! So our hat function has definitely moved to the right, but it's no longer a hat.  **What's going on?**"
   ]
  },
  {
   "cell_type": "markdown",
   "metadata": {},
   "source": [
    "Learn More\n",
    "-----\n",
    "***"
   ]
  },
  {
   "cell_type": "markdown",
   "metadata": {},
   "source": [
    "For a more thorough explanation of the finite-difference method, including topics like the truncation error, order of convergence and other details, watch **Video Lessons 2 and 3** by Prof. Barba on YouTube."
   ]
  },
  {
   "cell_type": "code",
   "execution_count": 6,
   "metadata": {
    "jupyter": {
     "outputs_hidden": false
    }
   },
   "outputs": [
    {
     "data": {
      "image/jpeg": "[encoded data removed]",
      "text/html": [
       "\n",
       "        <iframe\n",
       "            width=\"400\"\n",
       "            height=\"300\"\n",
       "            src=\"https://www.youtube.com/embed/iz22_37mMkk\"\n",
       "            frameborder=\"0\"\n",
       "            allowfullscreen\n",
       "        ></iframe>\n",
       "        "
      ],
      "text/plain": [
       "<IPython.lib.display.YouTubeVideo at 0x7f61cb74b898>"
      ]
     },
     "execution_count": 6,
     "metadata": {},
     "output_type": "execute_result"
    }
   ],
   "source": [
    "from IPython.display import YouTubeVideo\n",
    "YouTubeVideo('iz22_37mMkk')"
   ]
  },
  {
   "cell_type": "code",
   "execution_count": 7,
   "metadata": {
    "jupyter": {
     "outputs_hidden": false
    }
   },
   "outputs": [
    {
     "data": {
      "image/jpeg": "[encoded data removed]",
      "text/html": [
       "\n",
       "        <iframe\n",
       "            width=\"400\"\n",
       "            height=\"300\"\n",
       "            src=\"https://www.youtube.com/embed/xq9YTcv-fQg\"\n",
       "            frameborder=\"0\"\n",
       "            allowfullscreen\n",
       "        ></iframe>\n",
       "        "
      ],
      "text/plain": [
       "<IPython.lib.display.YouTubeVideo at 0x7f61cb40b7b8>"
      ]
     },
     "execution_count": 7,
     "metadata": {},
     "output_type": "execute_result"
    }
   ],
   "source": [
    "YouTubeVideo('xq9YTcv-fQg')"
   ]
  },
  {
   "cell_type": "markdown",
   "metadata": {},
   "source": [
    "For a careful walk-through of the discretization of the linear convection equation with finite differences (and also the following steps, up to Step 4), watch **Video Lesson 4** by Prof. Barba on YouTube."
   ]
  },
  {
   "cell_type": "code",
   "execution_count": 8,
   "metadata": {
    "jupyter": {
     "outputs_hidden": false
    }
   },
   "outputs": [
    {
     "data": {
      "image/jpeg": "[encoded data removed]",
      "text/html": [
       "\n",
       "        <iframe\n",
       "            width=\"400\"\n",
       "            height=\"300\"\n",
       "            src=\"https://www.youtube.com/embed/y2WaK7_iMRI\"\n",
       "            frameborder=\"0\"\n",
       "            allowfullscreen\n",
       "        ></iframe>\n",
       "        "
      ],
      "text/plain": [
       "<IPython.lib.display.YouTubeVideo at 0x7f61cb40b7f0>"
      ]
     },
     "execution_count": 8,
     "metadata": {},
     "output_type": "execute_result"
    }
   ],
   "source": [
    "YouTubeVideo('y2WaK7_iMRI')"
   ]
  },
  {
   "cell_type": "markdown",
   "metadata": {},
   "source": [
    "## Last but not least"
   ]
  },
  {
   "cell_type": "markdown",
   "metadata": {},
   "source": [
    "**Remember** to rewrite Step 1 as a fresh Python script or in *your own* Jupyter notebook and then experiment by changing the discretization parameters. Once you have done this, you will be ready for [Step 2](./02_Step_2.ipynb).\n",
    "\n",
    "\n",
    "***"
   ]
  },
  {
   "cell_type": "code",
   "execution_count": 9,
   "metadata": {
    "jupyter": {
     "outputs_hidden": false
    }
   },
   "outputs": [
    {
     "data": {
      "text/html": [
       "<link href='http://fonts.googleapis.com/css?family=Fenix' rel='stylesheet' type='text/css'>\n",
       "<link href='http://fonts.googleapis.com/css?family=Alegreya+Sans:100,300,400,500,700,800,900,100italic,300italic,400italic,500italic,700italic,800italic,900italic' rel='stylesheet' type='text/css'>\n",
       "<link href='http://fonts.googleapis.com/css?family=Source+Code+Pro:300,400' rel='stylesheet' type='text/css'>\n",
       "<style>\n",
       "    @font-face {\n",
       "        font-family: \"Computer Modern\";\n",
       "        src: url('http://mirrors.ctan.org/fonts/cm-unicode/fonts/otf/cmunss.otf');\n",
       "    }\n",
       "    div.cell{\n",
       "        width:800px;\n",
       "        margin-left:16% !important;\n",
       "        margin-right:auto;\n",
       "    }\n",
       "    h1 {\n",
       "        font-family: 'Alegreya Sans', sans-serif;\n",
       "    }\n",
       "    h2 {\n",
       "        font-family: 'Fenix', serif;\n",
       "    }\n",
       "    h3{\n",
       "\t\tfont-family: 'Fenix', serif;\n",
       "        margin-top:12px;\n",
       "        margin-bottom: 3px;\n",
       "       }\n",
       "\th4{\n",
       "\t\tfont-family: 'Fenix', serif;\n",
       "       }\n",
       "    h5 {\n",
       "        font-family: 'Alegreya Sans', sans-serif;\n",
       "    }\t   \n",
       "    div.text_cell_render{\n",
       "        font-family: 'Alegreya Sans',Computer Modern, \"Helvetica Neue\", Arial, Helvetica, Geneva, sans-serif;\n",
       "        line-height: 135%;\n",
       "        font-size: 120%;\n",
       "        width:600px;\n",
       "        margin-left:auto;\n",
       "        margin-right:auto;\n",
       "    }\n",
       "    .CodeMirror{\n",
       "            font-family: \"Source Code Pro\";\n",
       "\t\t\tfont-size: 90%;\n",
       "    }\n",
       "/*    .prompt{\n",
       "        display: None;\n",
       "    }*/\n",
       "    .text_cell_render h1 {\n",
       "        font-weight: 200;\n",
       "        font-size: 50pt;\n",
       "\t\tline-height: 100%;\n",
       "        color:#CD2305;\n",
       "        margin-bottom: 0.5em;\n",
       "        margin-top: 0.5em;\n",
       "        display: block;\n",
       "    }\t\n",
       "    .text_cell_render h5 {\n",
       "        font-weight: 300;\n",
       "        font-size: 16pt;\n",
       "        color: #CD2305;\n",
       "        font-style: italic;\n",
       "        margin-bottom: .5em;\n",
       "        margin-top: 0.5em;\n",
       "        display: block;\n",
       "    }\n",
       "    \n",
       "    .warning{\n",
       "        color: rgb( 240, 20, 20 )\n",
       "        }  \n",
       "</style>\n",
       "<script>\n",
       "    MathJax.Hub.Config({\n",
       "                        TeX: {\n",
       "                           extensions: [\"AMSmath.js\"]\n",
       "                           },\n",
       "                tex2jax: {\n",
       "                    inlineMath: [ ['$','$'], [\"\\\\(\",\"\\\\)\"] ],\n",
       "                    displayMath: [ ['$$','$$'], [\"\\\\[\",\"\\\\]\"] ]\n",
       "                },\n",
       "                displayAlign: 'center', // Change this to 'center' to center equations.\n",
       "                \"HTML-CSS\": {\n",
       "                    styles: {'.MathJax_Display': {\"margin\": 4}}\n",
       "                }\n",
       "        });\n",
       "</script>\n"
      ],
      "text/plain": [
       "<IPython.core.display.HTML object>"
      ]
     },
     "execution_count": 9,
     "metadata": {},
     "output_type": "execute_result"
    }
   ],
   "source": [
    "from IPython.core.display import HTML\n",
    "def css_styling():\n",
    "    styles = open(\"custom.css\", \"r\").read()\n",
    "    return HTML(styles)\n",
    "css_styling()"
   ]
  },
  {
   "cell_type": "markdown",
   "metadata": {},
   "source": [
    "> (The cell above executes the style for this notebook. We modified a style we found on the GitHub of [CamDavidsonPilon](https://github.com/CamDavidsonPilon), [@Cmrn_DP](https://twitter.com/cmrn_dp).)"
   ]
  }
 ],
 "metadata": {
  "kernelspec": {
   "display_name": "Python 3",
   "language": "python",
   "name": "python3"
  },
  "language_info": {
   "codemirror_mode": {
    "name": "ipython",
    "version": 3
   },
   "file_extension": ".py",
   "mimetype": "text/x-python",
   "name": "python",
   "nbconvert_exporter": "python",
   "pygments_lexer": "ipython3",
   "version": "3.7.3"
  }
 },
 "nbformat": 4,
 "nbformat_minor": 4
}
